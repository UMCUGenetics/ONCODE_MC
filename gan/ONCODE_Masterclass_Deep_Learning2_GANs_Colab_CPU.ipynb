{
  "nbformat": 4,
  "nbformat_minor": 0,
  "metadata": {
    "kernelspec": {
      "display_name": "Python 3",
      "language": "python",
      "name": "python3"
    },
    "language_info": {
      "codemirror_mode": {
        "name": "ipython",
        "version": 3
      },
      "file_extension": ".py",
      "mimetype": "text/x-python",
      "name": "python",
      "nbconvert_exporter": "python",
      "pygments_lexer": "ipython3",
      "version": "3.6.10"
    },
    "colab": {
      "name": "ONCODE_Masterclass_Deep_Learning2_GANs_Colab_CPU.ipynb",
      "provenance": [],
      "collapsed_sections": []
    },
    "accelerator": "TPU",
    "widgets": {
      "application/vnd.jupyter.widget-state+json": {
        "b8067755bb4d485aa4ac027ae20b3b51": {
          "model_module": "@jupyter-widgets/controls",
          "model_name": "HBoxModel",
          "state": {
            "_view_name": "HBoxView",
            "_dom_classes": [],
            "_model_name": "HBoxModel",
            "_view_module": "@jupyter-widgets/controls",
            "_model_module_version": "1.5.0",
            "_view_count": null,
            "_view_module_version": "1.5.0",
            "box_style": "",
            "layout": "IPY_MODEL_53c5981c4dbc4bd299d3dd0805361b34",
            "_model_module": "@jupyter-widgets/controls",
            "children": [
              "IPY_MODEL_fbe43fc7b1cb4e6a8cbf9accfb989575",
              "IPY_MODEL_6d2c8331908c468b9b0dd4fbf1ce4757"
            ]
          }
        },
        "53c5981c4dbc4bd299d3dd0805361b34": {
          "model_module": "@jupyter-widgets/base",
          "model_name": "LayoutModel",
          "state": {
            "_view_name": "LayoutView",
            "grid_template_rows": null,
            "right": null,
            "justify_content": null,
            "_view_module": "@jupyter-widgets/base",
            "overflow": null,
            "_model_module_version": "1.2.0",
            "_view_count": null,
            "flex_flow": null,
            "width": null,
            "min_width": null,
            "border": null,
            "align_items": null,
            "bottom": null,
            "_model_module": "@jupyter-widgets/base",
            "top": null,
            "grid_column": null,
            "overflow_y": null,
            "overflow_x": null,
            "grid_auto_flow": null,
            "grid_area": null,
            "grid_template_columns": null,
            "flex": null,
            "_model_name": "LayoutModel",
            "justify_items": null,
            "grid_row": null,
            "max_height": null,
            "align_content": null,
            "visibility": null,
            "align_self": null,
            "height": null,
            "min_height": null,
            "padding": null,
            "grid_auto_rows": null,
            "grid_gap": null,
            "max_width": null,
            "order": null,
            "_view_module_version": "1.2.0",
            "grid_template_areas": null,
            "object_position": null,
            "object_fit": null,
            "grid_auto_columns": null,
            "margin": null,
            "display": null,
            "left": null
          }
        },
        "fbe43fc7b1cb4e6a8cbf9accfb989575": {
          "model_module": "@jupyter-widgets/controls",
          "model_name": "FloatProgressModel",
          "state": {
            "_view_name": "ProgressView",
            "style": "IPY_MODEL_1f4d0f089d4a44469af8dfff22862951",
            "_dom_classes": [],
            "description": "Dl Completed...: 100%",
            "_model_name": "FloatProgressModel",
            "bar_style": "success",
            "max": 4,
            "_view_module": "@jupyter-widgets/controls",
            "_model_module_version": "1.5.0",
            "value": 4,
            "_view_count": null,
            "_view_module_version": "1.5.0",
            "orientation": "horizontal",
            "min": 0,
            "description_tooltip": null,
            "_model_module": "@jupyter-widgets/controls",
            "layout": "IPY_MODEL_8c3a72e2ae5445d1a9a483e0dcac6ead"
          }
        },
        "6d2c8331908c468b9b0dd4fbf1ce4757": {
          "model_module": "@jupyter-widgets/controls",
          "model_name": "HTMLModel",
          "state": {
            "_view_name": "HTMLView",
            "style": "IPY_MODEL_63a384caec60484abde5b5dc76e51088",
            "_dom_classes": [],
            "description": "",
            "_model_name": "HTMLModel",
            "placeholder": "​",
            "_view_module": "@jupyter-widgets/controls",
            "_model_module_version": "1.5.0",
            "value": " 4/4 [00:00&lt;00:00,  6.16 file/s]",
            "_view_count": null,
            "_view_module_version": "1.5.0",
            "description_tooltip": null,
            "_model_module": "@jupyter-widgets/controls",
            "layout": "IPY_MODEL_1b78ea97750f483ea9faedaa3bb8ca38"
          }
        },
        "1f4d0f089d4a44469af8dfff22862951": {
          "model_module": "@jupyter-widgets/controls",
          "model_name": "ProgressStyleModel",
          "state": {
            "_view_name": "StyleView",
            "_model_name": "ProgressStyleModel",
            "description_width": "initial",
            "_view_module": "@jupyter-widgets/base",
            "_model_module_version": "1.5.0",
            "_view_count": null,
            "_view_module_version": "1.2.0",
            "bar_color": null,
            "_model_module": "@jupyter-widgets/controls"
          }
        },
        "8c3a72e2ae5445d1a9a483e0dcac6ead": {
          "model_module": "@jupyter-widgets/base",
          "model_name": "LayoutModel",
          "state": {
            "_view_name": "LayoutView",
            "grid_template_rows": null,
            "right": null,
            "justify_content": null,
            "_view_module": "@jupyter-widgets/base",
            "overflow": null,
            "_model_module_version": "1.2.0",
            "_view_count": null,
            "flex_flow": null,
            "width": null,
            "min_width": null,
            "border": null,
            "align_items": null,
            "bottom": null,
            "_model_module": "@jupyter-widgets/base",
            "top": null,
            "grid_column": null,
            "overflow_y": null,
            "overflow_x": null,
            "grid_auto_flow": null,
            "grid_area": null,
            "grid_template_columns": null,
            "flex": null,
            "_model_name": "LayoutModel",
            "justify_items": null,
            "grid_row": null,
            "max_height": null,
            "align_content": null,
            "visibility": null,
            "align_self": null,
            "height": null,
            "min_height": null,
            "padding": null,
            "grid_auto_rows": null,
            "grid_gap": null,
            "max_width": null,
            "order": null,
            "_view_module_version": "1.2.0",
            "grid_template_areas": null,
            "object_position": null,
            "object_fit": null,
            "grid_auto_columns": null,
            "margin": null,
            "display": null,
            "left": null
          }
        },
        "63a384caec60484abde5b5dc76e51088": {
          "model_module": "@jupyter-widgets/controls",
          "model_name": "DescriptionStyleModel",
          "state": {
            "_view_name": "StyleView",
            "_model_name": "DescriptionStyleModel",
            "description_width": "",
            "_view_module": "@jupyter-widgets/base",
            "_model_module_version": "1.5.0",
            "_view_count": null,
            "_view_module_version": "1.2.0",
            "_model_module": "@jupyter-widgets/controls"
          }
        },
        "1b78ea97750f483ea9faedaa3bb8ca38": {
          "model_module": "@jupyter-widgets/base",
          "model_name": "LayoutModel",
          "state": {
            "_view_name": "LayoutView",
            "grid_template_rows": null,
            "right": null,
            "justify_content": null,
            "_view_module": "@jupyter-widgets/base",
            "overflow": null,
            "_model_module_version": "1.2.0",
            "_view_count": null,
            "flex_flow": null,
            "width": null,
            "min_width": null,
            "border": null,
            "align_items": null,
            "bottom": null,
            "_model_module": "@jupyter-widgets/base",
            "top": null,
            "grid_column": null,
            "overflow_y": null,
            "overflow_x": null,
            "grid_auto_flow": null,
            "grid_area": null,
            "grid_template_columns": null,
            "flex": null,
            "_model_name": "LayoutModel",
            "justify_items": null,
            "grid_row": null,
            "max_height": null,
            "align_content": null,
            "visibility": null,
            "align_self": null,
            "height": null,
            "min_height": null,
            "padding": null,
            "grid_auto_rows": null,
            "grid_gap": null,
            "max_width": null,
            "order": null,
            "_view_module_version": "1.2.0",
            "grid_template_areas": null,
            "object_position": null,
            "object_fit": null,
            "grid_auto_columns": null,
            "margin": null,
            "display": null,
            "left": null
          }
        }
      }
    }
  },
  "cells": [
    {
      "cell_type": "markdown",
      "metadata": {
        "id": "9M6Ho0Pd4M12"
      },
      "source": [
        "# Generative Adversarial Networks"
      ]
    },
    {
      "cell_type": "markdown",
      "metadata": {
        "id": "psxHV2oX4M13"
      },
      "source": [
        "This tutorial is based on the Google course on [GANs](https://developers.google.com/machine-learning/gan) and the [TF-GAN Tutorial](https://github.com/tensorflow/gan/blob/master/tensorflow_gan/examples/colab_notebooks/tfgan_tutorial.ipynb) written by Joel Shor and David Westbrook."
      ]
    },
    {
      "cell_type": "markdown",
      "metadata": {
        "id": "nXYRQIuD4M14"
      },
      "source": [
        "## Overview\n",
        "\n",
        "[Generative Adversarial Networks](https://developers.google.com/machine-learning/gan), or GANs in short, are a class of generative models presented for the first time by [Ian J. Goodfellow and co-authors in 2014](https://arxiv.org/abs/1406.2661) where a neural network, the **generator**, learns to produce plausible data using the feedback of how another neural network, the **discriminator**, classifies the data created by the generator."
      ]
    },
    {
      "cell_type": "markdown",
      "metadata": {
        "id": "FEC0bYa_4M15"
      },
      "source": [
        "### Here are some potential applications in Biology:\n",
        "\n",
        "- increasing resolution of Hi-C data (hicGAN, [Liu et al., 2019, Bioinformatics](https://academic.oup.com/bioinformatics/article/35/14/i99/5529246));\n",
        "- training data augmentation: microscope images ([Baniukiewicz et al., 2019, Front. Comput. Sci.](https://www.frontiersin.org/articles/10.3389/fcomp.2019.00010/full))\n",
        "- generate novel protein sequence (ProteinGAN, [Repecka et al., 2019, bioRxiv](https://www.biorxiv.org/content/10.1101/789719v2))\n",
        "- in silico generation and augmentation of single-cell RNA-seq data ([Ghahramani et al., 2018, bioRxiv](https://www.biorxiv.org/content/10.1101/262501v2.full.pdf), [Marouf et al., 2020, Nat. Comm.](https://www.nature.com/articles/s41467-019-14018-z))\n",
        "- generate privacy-preserving clinical data (for instance, for model training) ([Beaulieu-Jones et al., 2019, \n",
        "Circulation: Cardiovascular Quality and Outcomes](https://www.ahajournals.org/doi/full/10.1161/CIRCOUTCOMES.118.005122?url_ver=Z39.88-2003&rfr_id=ori:rid:crossref.org&rfr_dat=cr_pub%20%200pubmed))"
      ]
    },
    {
      "cell_type": "markdown",
      "metadata": {
        "id": "KGGFt69y4M16"
      },
      "source": [
        "Given a set of labelled data instances, if x is a data instance and y its label:\n",
        "- **Discriminative models**, such as RF or CNN classifiers, discriminate between different kinds of data instances. They capture the conditional probability P(x|y);\n",
        "- **Generative models**, such as GANs, generate new data instances that resemble the input data. They capture the conditional probability P(x,y) or P(x) if there are no labels.\n",
        "\n",
        "Here is an example for a set of images of handwritten digits (such as [MNIST](https://wikipedia.org/wiki/MNIST_database)):"
      ]
    },
    {
      "cell_type": "markdown",
      "metadata": {
        "id": "_mO_ZkCL4M16"
      },
      "source": [
        "![generative_v_discriminative.png](https://developers.google.com/machine-learning/gan/images/generative_v_discriminative.png)"
      ]
    },
    {
      "cell_type": "markdown",
      "metadata": {
        "id": "c2tVbqzV4M19"
      },
      "source": [
        "A GAN has two parts:\n",
        "\n",
        "- The **generator** takes in input random noise and learns to generate data instances (for example, images) drawn from a probability distribution (the probability distribution of the image training set). The data instances created by the generator become negative training instances for the discriminator;\n",
        "\n",
        "\n",
        "- The **discriminator** learns to distinguish the generator's fake data from real data. The discriminator penalizes the generator for producing implausible results."
      ]
    },
    {
      "cell_type": "markdown",
      "metadata": {
        "id": "qqZgbM_X4M1-"
      },
      "source": [
        "![gan_diagram.svg](https://developers.google.com/machine-learning/gan/images/gan_diagram.svg)"
      ]
    },
    {
      "cell_type": "markdown",
      "metadata": {
        "id": "klRV2KZn4M1-"
      },
      "source": [
        "## Step1: training the Discriminator\n",
        "\n",
        "The discriminator is a simple classifier:\n",
        "- Real data are positive examples\n",
        "- Fake data produced by the Generator are negative examples\n",
        "\n",
        "In this step:\n",
        "- the generator does not train\n",
        "- the discriminator only uses the discriminator loss\n",
        "\n",
        "The discriminator weights are updated through backpropagation from the discriminator loss through the discriminator network. The discriminator loss penalizes the discriminator for misclassifying a real instance as fake or a fake instance as real."
      ]
    },
    {
      "cell_type": "markdown",
      "metadata": {
        "id": "-Czb1MMf4M1_"
      },
      "source": [
        "![gan_diagram_discriminator.svg](https://developers.google.com/machine-learning/gan/images/gan_diagram_discriminator.svg)"
      ]
    },
    {
      "cell_type": "markdown",
      "metadata": {
        "id": "RqihyONT4M1_"
      },
      "source": [
        "## Step 2: training the generator\n",
        "\n",
        "The generator learns to create fake data by incorporating feedback from the discriminator.\n",
        "It learns to make the discriminator classify its output as real.\n",
        "\n",
        "The Generator loss penalizes the generator for failing to fool the discriminator.\n",
        "\n",
        "In this step only the Generator weights are updated, the Discriminator weights are left unchanged."
      ]
    },
    {
      "cell_type": "markdown",
      "metadata": {
        "id": "33XPiQOQ4M2A"
      },
      "source": [
        "![gan_diagram_generator.svg](https://developers.google.com/machine-learning/gan/images/gan_diagram_generator.svg)"
      ]
    },
    {
      "cell_type": "markdown",
      "metadata": {
        "id": "3zJDabKR4M2A"
      },
      "source": [
        "## GAN Training\n",
        "\n",
        "Training proceeds in alternating periods:\n",
        "1. The discriminator trains for one or more epochs.\n",
        "2. The generator trains for one or more epochs.\n",
        "3. Repeat steps 1 and 2\n",
        "\n",
        "Convergence is hard to identify:\n",
        "- as the generator improves, the discriminator feedback gets less meaningful over time\n",
        "- if the generator succeeds, the discriminator accuracy will be 50% (like if it would flip a coin to decide)\n",
        "- if the training continues past this point, the generator gets random feedback from the discriminator and will train on junk data\n",
        "therefore, GAN convergence is a fleeting state, rather than a stable state."
      ]
    },
    {
      "cell_type": "markdown",
      "metadata": {
        "id": "J808Z0Al4M2B"
      },
      "source": [
        "## Using the TensorFlow-GAN library\n",
        "\n",
        "Let us see how we can define, train, and evaluate a GAN using the TensorFlow-GAN library [TF-GAN](https://github.com/tensorflow/gan).\n",
        "To gain familiarity with TensorFlow you can look at the [TensorFlow tutorials](https://www.tensorflow.org/tutorials/)."
      ]
    },
    {
      "cell_type": "markdown",
      "metadata": {
        "id": "zZOSln_v4M2B"
      },
      "source": [
        "We first import the required Python modules:"
      ]
    },
    {
      "cell_type": "code",
      "metadata": {
        "id": "SYuZKG-Z4M2C",
        "outputId": "08fe0de0-a34a-42bc-f493-736d01c37313",
        "colab": {
          "base_uri": "https://localhost:8080/"
        }
      },
      "source": [
        "# Check that imports for the rest of the file work.\n",
        "import tensorflow as tf\n",
        "# We need to install tensorflow-gan\n",
        "!pip install tensorflow-gan \n",
        "import tensorflow_gan as tfgan\n",
        "import tensorflow_datasets as tfds\n",
        "\n",
        "import matplotlib.pyplot as plt\n",
        "import numpy as np\n",
        "# Allow matplotlib images to render immediately.\n",
        "%matplotlib inline\n",
        "\n",
        "import logging\n",
        "logger = tf.get_logger()\n",
        "logger.setLevel(logging.ERROR)  # Disable noisy outputs."
      ],
      "execution_count": 9,
      "outputs": [
        {
          "output_type": "stream",
          "text": [
            "Requirement already satisfied: tensorflow-gan in /usr/local/lib/python3.6/dist-packages (2.0.0)\n",
            "Requirement already satisfied: tensorflow-probability>=0.7 in /usr/local/lib/python3.6/dist-packages (from tensorflow-gan) (0.11.0)\n",
            "Requirement already satisfied: tensorflow-hub>=0.2 in /usr/local/lib/python3.6/dist-packages (from tensorflow-gan) (0.10.0)\n",
            "Requirement already satisfied: six>=1.10.0 in /usr/local/lib/python3.6/dist-packages (from tensorflow-probability>=0.7->tensorflow-gan) (1.15.0)\n",
            "Requirement already satisfied: decorator in /usr/local/lib/python3.6/dist-packages (from tensorflow-probability>=0.7->tensorflow-gan) (4.4.2)\n",
            "Requirement already satisfied: cloudpickle==1.3 in /usr/local/lib/python3.6/dist-packages (from tensorflow-probability>=0.7->tensorflow-gan) (1.3.0)\n",
            "Requirement already satisfied: numpy>=1.13.3 in /usr/local/lib/python3.6/dist-packages (from tensorflow-probability>=0.7->tensorflow-gan) (1.18.5)\n",
            "Requirement already satisfied: dm-tree in /usr/local/lib/python3.6/dist-packages (from tensorflow-probability>=0.7->tensorflow-gan) (0.1.5)\n",
            "Requirement already satisfied: gast>=0.3.2 in /usr/local/lib/python3.6/dist-packages (from tensorflow-probability>=0.7->tensorflow-gan) (0.3.3)\n",
            "Requirement already satisfied: protobuf>=3.8.0 in /usr/local/lib/python3.6/dist-packages (from tensorflow-hub>=0.2->tensorflow-gan) (3.12.4)\n",
            "Requirement already satisfied: setuptools in /usr/local/lib/python3.6/dist-packages (from protobuf>=3.8.0->tensorflow-hub>=0.2->tensorflow-gan) (50.3.2)\n"
          ],
          "name": "stdout"
        }
      ]
    },
    {
      "cell_type": "markdown",
      "metadata": {
        "id": "Ek-bH5ut4M2H"
      },
      "source": [
        "Let us first check the version of TensorFlow:"
      ]
    },
    {
      "cell_type": "code",
      "metadata": {
        "id": "cATETg104M2H",
        "outputId": "d85e3a42-43b6-4d1b-a326-1cf0af52dfba",
        "colab": {
          "base_uri": "https://localhost:8080/",
          "height": 35
        }
      },
      "source": [
        "tf.__version__"
      ],
      "execution_count": 10,
      "outputs": [
        {
          "output_type": "execute_result",
          "data": {
            "application/vnd.google.colaboratory.intrinsic+json": {
              "type": "string"
            },
            "text/plain": [
              "'2.3.0'"
            ]
          },
          "metadata": {
            "tags": []
          },
          "execution_count": 10
        }
      ]
    },
    {
      "cell_type": "markdown",
      "metadata": {
        "id": "A6lq8a6S4M2L"
      },
      "source": [
        "\n",
        "\n",
        "```\n",
        "# This is formatted as code\n",
        "```\n",
        "\n",
        "and the version of TensorFlow-GAN:"
      ]
    },
    {
      "cell_type": "code",
      "metadata": {
        "id": "hul1H0N44M2L",
        "outputId": "22477529-3ea8-47db-f3f8-f23fff5c7b7f",
        "colab": {
          "base_uri": "https://localhost:8080/",
          "height": 35
        }
      },
      "source": [
        "tfgan.__version__"
      ],
      "execution_count": 11,
      "outputs": [
        {
          "output_type": "execute_result",
          "data": {
            "application/vnd.google.colaboratory.intrinsic+json": {
              "type": "string"
            },
            "text/plain": [
              "'2.0.0'"
            ]
          },
          "metadata": {
            "tags": []
          },
          "execution_count": 11
        }
      ]
    },
    {
      "cell_type": "markdown",
      "metadata": {
        "id": "6qkVihTax9JF"
      },
      "source": [
        "The version of TensorFlow-Datasets"
      ]
    },
    {
      "cell_type": "code",
      "metadata": {
        "id": "ko4RNGtQxxXK",
        "outputId": "069caade-ea24-4f81-82f8-80738e8e3ed1",
        "colab": {
          "base_uri": "https://localhost:8080/",
          "height": 35
        }
      },
      "source": [
        "tfds.__version__"
      ],
      "execution_count": 12,
      "outputs": [
        {
          "output_type": "execute_result",
          "data": {
            "application/vnd.google.colaboratory.intrinsic+json": {
              "type": "string"
            },
            "text/plain": [
              "'4.0.1'"
            ]
          },
          "metadata": {
            "tags": []
          },
          "execution_count": 12
        }
      ]
    },
    {
      "cell_type": "markdown",
      "metadata": {
        "id": "qvtQNG0dyG2l"
      },
      "source": [
        ""
      ]
    },
    {
      "cell_type": "markdown",
      "metadata": {
        "id": "FOtJrt2c4M2O"
      },
      "source": [
        "In this notebook, you will learn how to use TF-GAN Estimators to train a Generative Adversarial Network to generate images that are sampled from the same probability distribution of an image dataset.\n",
        "\n",
        "These new images could be used to augment a training set to mitigate a **class imbalance**, when the data instances of a certain class are much fewer than those belonging to other classes."
      ]
    },
    {
      "cell_type": "markdown",
      "metadata": {
        "id": "why5jBrE4M2P"
      },
      "source": [
        "## Unconditional MNIST with GANEstimator\n",
        "\n",
        "This exercise uses TF-GAN's GANEstimator and the MNIST dataset to create a GAN for generating fake handwritten digits.\n",
        "\n",
        "### MNIST\n",
        "\n",
        "The [MNIST dataset](https://wikipedia.org/wiki/MNIST_database) contains tens of thousands of images of handwritten digits. We'll use these images to train a GAN to generate fake images of handwritten digits.\n",
        "\n",
        "### GANEstimator\n",
        "\n",
        "TensorFlow's Estimator API that makes it easy to train models. TF-GAN offers `GANEstimator`, an Estimator for training GANs."
      ]
    },
    {
      "cell_type": "markdown",
      "metadata": {
        "id": "4tHClZjg4M2P"
      },
      "source": [
        "### Input Pipeline\n",
        "\n",
        "We set up our input pipeline by defining an `input_fn`. in the \"Train and Eval Loop\" section below we pass this function to our GANEstimator's `train` method to initiate training.  The `input_fn`:\n",
        "\n",
        "1.  Generates the random inputs for the generator.\n",
        "2.  Uses `tensorflow_datasets` to retrieve the MNIST data.\n",
        "3.  Uses the tf.data API to format the data."
      ]
    },
    {
      "cell_type": "markdown",
      "metadata": {
        "id": "Y96GLwcM4M2Q"
      },
      "source": [
        "Let us take a look at the benchmark datasets available with the library TensorFlow Datasets."
      ]
    },
    {
      "cell_type": "code",
      "metadata": {
        "id": "xUQsjvuE4M2R",
        "outputId": "bfd123e3-9779-4b83-915e-21b38f79066b",
        "colab": {
          "base_uri": "https://localhost:8080/"
        }
      },
      "source": [
        "tfds.list_builders()"
      ],
      "execution_count": 13,
      "outputs": [
        {
          "output_type": "execute_result",
          "data": {
            "text/plain": [
              "['abstract_reasoning',\n",
              " 'accentdb',\n",
              " 'aeslc',\n",
              " 'aflw2k3d',\n",
              " 'ag_news_subset',\n",
              " 'ai2_arc',\n",
              " 'ai2_arc_with_ir',\n",
              " 'amazon_us_reviews',\n",
              " 'anli',\n",
              " 'arc',\n",
              " 'bair_robot_pushing_small',\n",
              " 'bccd',\n",
              " 'beans',\n",
              " 'big_patent',\n",
              " 'bigearthnet',\n",
              " 'billsum',\n",
              " 'binarized_mnist',\n",
              " 'binary_alpha_digits',\n",
              " 'blimp',\n",
              " 'bool_q',\n",
              " 'c4',\n",
              " 'caltech101',\n",
              " 'caltech_birds2010',\n",
              " 'caltech_birds2011',\n",
              " 'cars196',\n",
              " 'cassava',\n",
              " 'cats_vs_dogs',\n",
              " 'celeb_a',\n",
              " 'celeb_a_hq',\n",
              " 'cfq',\n",
              " 'chexpert',\n",
              " 'cifar10',\n",
              " 'cifar100',\n",
              " 'cifar10_1',\n",
              " 'cifar10_corrupted',\n",
              " 'citrus_leaves',\n",
              " 'cityscapes',\n",
              " 'civil_comments',\n",
              " 'clevr',\n",
              " 'clic',\n",
              " 'clinc_oos',\n",
              " 'cmaterdb',\n",
              " 'cnn_dailymail',\n",
              " 'coco',\n",
              " 'coco_captions',\n",
              " 'coil100',\n",
              " 'colorectal_histology',\n",
              " 'colorectal_histology_large',\n",
              " 'common_voice',\n",
              " 'coqa',\n",
              " 'cos_e',\n",
              " 'cosmos_qa',\n",
              " 'covid19sum',\n",
              " 'crema_d',\n",
              " 'curated_breast_imaging_ddsm',\n",
              " 'cycle_gan',\n",
              " 'deep_weeds',\n",
              " 'definite_pronoun_resolution',\n",
              " 'dementiabank',\n",
              " 'diabetic_retinopathy_detection',\n",
              " 'div2k',\n",
              " 'dmlab',\n",
              " 'downsampled_imagenet',\n",
              " 'dsprites',\n",
              " 'dtd',\n",
              " 'duke_ultrasound',\n",
              " 'emnist',\n",
              " 'eraser_multi_rc',\n",
              " 'esnli',\n",
              " 'eurosat',\n",
              " 'fashion_mnist',\n",
              " 'flic',\n",
              " 'flores',\n",
              " 'food101',\n",
              " 'forest_fires',\n",
              " 'fuss',\n",
              " 'gap',\n",
              " 'geirhos_conflict_stimuli',\n",
              " 'genomics_ood',\n",
              " 'german_credit_numeric',\n",
              " 'gigaword',\n",
              " 'glue',\n",
              " 'goemotions',\n",
              " 'gpt3',\n",
              " 'groove',\n",
              " 'gtzan',\n",
              " 'gtzan_music_speech',\n",
              " 'hellaswag',\n",
              " 'higgs',\n",
              " 'horses_or_humans',\n",
              " 'i_naturalist2017',\n",
              " 'imagenet2012',\n",
              " 'imagenet2012_corrupted',\n",
              " 'imagenet2012_real',\n",
              " 'imagenet2012_subset',\n",
              " 'imagenet_a',\n",
              " 'imagenet_r',\n",
              " 'imagenet_resized',\n",
              " 'imagenet_v2',\n",
              " 'imagenette',\n",
              " 'imagewang',\n",
              " 'imdb_reviews',\n",
              " 'irc_disentanglement',\n",
              " 'iris',\n",
              " 'kitti',\n",
              " 'kmnist',\n",
              " 'lfw',\n",
              " 'librispeech',\n",
              " 'librispeech_lm',\n",
              " 'libritts',\n",
              " 'ljspeech',\n",
              " 'lm1b',\n",
              " 'lost_and_found',\n",
              " 'lsun',\n",
              " 'malaria',\n",
              " 'math_dataset',\n",
              " 'mctaco',\n",
              " 'mnist',\n",
              " 'mnist_corrupted',\n",
              " 'movie_lens',\n",
              " 'movie_rationales',\n",
              " 'movielens',\n",
              " 'moving_mnist',\n",
              " 'multi_news',\n",
              " 'multi_nli',\n",
              " 'multi_nli_mismatch',\n",
              " 'natural_questions',\n",
              " 'natural_questions_open',\n",
              " 'newsroom',\n",
              " 'nsynth',\n",
              " 'nyu_depth_v2',\n",
              " 'omniglot',\n",
              " 'open_images_challenge2019_detection',\n",
              " 'open_images_v4',\n",
              " 'openbookqa',\n",
              " 'opinion_abstracts',\n",
              " 'opinosis',\n",
              " 'opus',\n",
              " 'oxford_flowers102',\n",
              " 'oxford_iiit_pet',\n",
              " 'para_crawl',\n",
              " 'patch_camelyon',\n",
              " 'paws_wiki',\n",
              " 'paws_x_wiki',\n",
              " 'pet_finder',\n",
              " 'pg19',\n",
              " 'places365_small',\n",
              " 'plant_leaves',\n",
              " 'plant_village',\n",
              " 'plantae_k',\n",
              " 'qa4mre',\n",
              " 'qasc',\n",
              " 'quickdraw_bitmap',\n",
              " 'radon',\n",
              " 'reddit',\n",
              " 'reddit_disentanglement',\n",
              " 'reddit_tifu',\n",
              " 'resisc45',\n",
              " 'robonet',\n",
              " 'rock_paper_scissors',\n",
              " 'rock_you',\n",
              " 'salient_span_wikipedia',\n",
              " 'samsum',\n",
              " 'savee',\n",
              " 'scan',\n",
              " 'scene_parse150',\n",
              " 'scicite',\n",
              " 'scientific_papers',\n",
              " 'sentiment140',\n",
              " 'shapes3d',\n",
              " 'smallnorb',\n",
              " 'snli',\n",
              " 'so2sat',\n",
              " 'speech_commands',\n",
              " 'spoken_digit',\n",
              " 'squad',\n",
              " 'stanford_dogs',\n",
              " 'stanford_online_products',\n",
              " 'starcraft_video',\n",
              " 'stl10',\n",
              " 'sun397',\n",
              " 'super_glue',\n",
              " 'svhn_cropped',\n",
              " 'ted_hrlr_translate',\n",
              " 'ted_multi_translate',\n",
              " 'tedlium',\n",
              " 'tf_flowers',\n",
              " 'the300w_lp',\n",
              " 'tiny_shakespeare',\n",
              " 'titanic',\n",
              " 'trec',\n",
              " 'trivia_qa',\n",
              " 'tydi_qa',\n",
              " 'uc_merced',\n",
              " 'ucf101',\n",
              " 'vctk',\n",
              " 'vgg_face2',\n",
              " 'visual_domain_decathlon',\n",
              " 'voc',\n",
              " 'voxceleb',\n",
              " 'voxforge',\n",
              " 'waymo_open_dataset',\n",
              " 'web_questions',\n",
              " 'wider_face',\n",
              " 'wiki40b',\n",
              " 'wikihow',\n",
              " 'wikipedia',\n",
              " 'wikipedia_toxicity_subtypes',\n",
              " 'wine_quality',\n",
              " 'winogrande',\n",
              " 'wmt14_translate',\n",
              " 'wmt15_translate',\n",
              " 'wmt16_translate',\n",
              " 'wmt17_translate',\n",
              " 'wmt18_translate',\n",
              " 'wmt19_translate',\n",
              " 'wmt_t2t_translate',\n",
              " 'wmt_translate',\n",
              " 'wordnet',\n",
              " 'xnli',\n",
              " 'xquad',\n",
              " 'xsum',\n",
              " 'yelp_polarity_reviews',\n",
              " 'yes_no']"
            ]
          },
          "metadata": {
            "tags": []
          },
          "execution_count": 13
        }
      ]
    },
    {
      "cell_type": "markdown",
      "metadata": {
        "id": "-8P2L1jX4M2U"
      },
      "source": [
        "Here, we will consider the [MNIST](https://www.tensorflow.org/datasets/catalog/mnist) dataset.\n",
        "\n",
        "Once you finish this tutorial, you can also experiment with another dataset, for instance the [colorectal_histology dataset](https://www.tensorflow.org/datasets/catalog/colorectal_histology)."
      ]
    },
    {
      "cell_type": "code",
      "metadata": {
        "id": "zI4erKwU4M2U"
      },
      "source": [
        "def input_fn(mode, params):\n",
        "\n",
        "  assert 'batch_size' in params\n",
        "  assert 'noise_dims' in params\n",
        "  \n",
        "  bs = params['batch_size']\n",
        "  nd = params['noise_dims']\n",
        "    \n",
        "  # the flags in tf.estimator.ModeKeys keeps track whether we are in training (.TRAIN)\n",
        "  # or prediction (.PREDICT) mode\n",
        "  split = 'train' if mode == tf.estimator.ModeKeys.TRAIN else 'test'\n",
        "  shuffle = (mode == tf.estimator.ModeKeys.TRAIN)\n",
        "  just_noise = (mode == tf.estimator.ModeKeys.PREDICT)\n",
        "  \n",
        "  noise = lambda _ : tf.random.normal([bs, nd])\n",
        "  noise_ds = (tf.data.Dataset.from_tensors(0).repeat()\n",
        "              .map(noise))\n",
        "  \n",
        "  if just_noise:\n",
        "    return noise_ds\n",
        "\n",
        "  def _preprocess(element):\n",
        "    # Maps [0, 255] to [-1, 1].\n",
        "    images = (tf.cast(element['image'], tf.float32) - 127.5) / 127.5\n",
        "    return images\n",
        "\n",
        "  images_ds = (tfds.load('mnist', split=split, data_dir='./tmp')\n",
        "               .map(_preprocess)\n",
        "               .cache()\n",
        "               .repeat())\n",
        "  if shuffle:\n",
        "    images_ds = images_ds.shuffle(\n",
        "        buffer_size=10000, reshuffle_each_iteration=True)\n",
        "  images_ds = (images_ds.batch(bs, drop_remainder=True)\n",
        "               .prefetch(tf.data.experimental.AUTOTUNE))\n",
        "\n",
        "  return tf.data.Dataset.zip((noise_ds, images_ds))"
      ],
      "execution_count": 14,
      "outputs": []
    },
    {
      "cell_type": "markdown",
      "metadata": {
        "id": "F2GgOWVG4M2X"
      },
      "source": [
        "Download the data and sanity check the inputs."
      ]
    },
    {
      "cell_type": "code",
      "metadata": {
        "id": "h6unMnd6IJ35",
        "outputId": "4e167ca4-0e8e-4a0a-bcbd-634446f854e1",
        "colab": {
          "base_uri": "https://localhost:8080/",
          "height": 202,
          "referenced_widgets": [
            "b8067755bb4d485aa4ac027ae20b3b51",
            "53c5981c4dbc4bd299d3dd0805361b34",
            "fbe43fc7b1cb4e6a8cbf9accfb989575",
            "6d2c8331908c468b9b0dd4fbf1ce4757",
            "1f4d0f089d4a44469af8dfff22862951",
            "8c3a72e2ae5445d1a9a483e0dcac6ead",
            "63a384caec60484abde5b5dc76e51088",
            "1b78ea97750f483ea9faedaa3bb8ca38"
          ]
        }
      },
      "source": [
        "params = {'batch_size': 100, 'noise_dims':64}\n",
        "\n",
        "with tf.Graph().as_default():\n",
        "  ds = input_fn(tf.estimator.ModeKeys.TRAIN, params)\n",
        "  numpy_imgs = next(iter(tfds.as_numpy(ds)))[1]"
      ],
      "execution_count": 15,
      "outputs": [
        {
          "output_type": "stream",
          "text": [
            "\u001b[1mDownloading and preparing dataset mnist/3.0.1 (download: 11.06 MiB, generated: 21.00 MiB, total: 32.06 MiB) to ./tmp/mnist/3.0.1...\u001b[0m\n"
          ],
          "name": "stdout"
        },
        {
          "output_type": "stream",
          "text": [
            "WARNING:absl:Dataset mnist is hosted on GCS. It will automatically be downloaded to your\n",
            "local data directory. If you'd instead prefer to read directly from our public\n",
            "GCS bucket (recommended if you're running on GCP), you can instead pass\n",
            "`try_gcs=True` to `tfds.load` or set `data_dir=gs://tfds-data/datasets`.\n",
            "\n"
          ],
          "name": "stderr"
        },
        {
          "output_type": "display_data",
          "data": {
            "application/vnd.jupyter.widget-view+json": {
              "model_id": "b8067755bb4d485aa4ac027ae20b3b51",
              "version_minor": 0,
              "version_major": 2
            },
            "text/plain": [
              "HBox(children=(FloatProgress(value=0.0, description='Dl Completed...', max=4.0, style=ProgressStyle(descriptio…"
            ]
          },
          "metadata": {
            "tags": []
          }
        },
        {
          "output_type": "stream",
          "text": [
            "\n",
            "\n",
            "\u001b[1mDataset mnist downloaded and prepared to ./tmp/mnist/3.0.1. Subsequent calls will reuse this data.\u001b[0m\n"
          ],
          "name": "stdout"
        }
      ]
    },
    {
      "cell_type": "code",
      "metadata": {
        "id": "ui_6Qov94M2X",
        "outputId": "2a744e2a-42a8-49ff-eadb-9e472a5093eb",
        "colab": {
          "base_uri": "https://localhost:8080/",
          "height": 265
        }
      },
      "source": [
        "print('Shape of the image array = {}'.format(numpy_imgs.shape))\n",
        "    \n",
        "img_grid = tfgan.eval.python_image_grid(numpy_imgs, grid_shape=(10, 10))\n",
        "plt.axis('off')\n",
        "plt.imshow(np.squeeze(img_grid))\n",
        "plt.show()"
      ],
      "execution_count": 16,
      "outputs": [
        {
          "output_type": "stream",
          "text": [
            "Shape of the image array = (100, 28, 28, 1)\n"
          ],
          "name": "stdout"
        },
        {
          "output_type": "display_data",
          "data": {
            "image/png": "[encoded data removed]",
            "text/plain": [
              "<Figure size 432x288 with 1 Axes>"
            ]
          },
          "metadata": {
            "tags": [],
            "needs_background": "light"
          }
        }
      ]
    },
    {
      "cell_type": "markdown",
      "metadata": {
        "id": "TjSEnX0I4M2a"
      },
      "source": [
        "### Neural Network Architecture\n",
        "\n",
        "To build our GAN we need two separate networks:\n",
        "\n",
        "*  A generator that takes input noise and outputs generated MNIST digits\n",
        "*  A discriminator that takes images and outputs a probability of being real or fake\n",
        "\n",
        "We define functions that build these networks. In the GANEstimator section below we pass the builder functions to the `GANEstimator` constructor. `GANEstimator` handles hooking the generator and discriminator together into the GAN. "
      ]
    },
    {
      "cell_type": "markdown",
      "metadata": {
        "id": "-sSGlRu24M2a"
      },
      "source": [
        "To initialize the weights, we use the [Glorot uniform initializer](https://keras.io/initializers/), also called Xavier uniform initializer ([Glorot et al., 2010](http://proceedings.mlr.press/v9/glorot10a/glorot10a.pdf))."
      ]
    },
    {
      "cell_type": "markdown",
      "metadata": {
        "id": "0IkEN2LA4M2b"
      },
      "source": [
        "We define the dense (fully connected) layer:"
      ]
    },
    {
      "cell_type": "code",
      "metadata": {
        "id": "AXo2l_tT4M2b"
      },
      "source": [
        "def _dense(inputs, units, l2_weight):\n",
        "  return tf.compat.v1.layers.dense(\n",
        "      inputs, units, None,\n",
        "      kernel_initializer=tf.keras.initializers.glorot_uniform,\n",
        "      kernel_regularizer=tf.keras.regularizers.l2(l=l2_weight),\n",
        "      bias_regularizer=tf.keras.regularizers.l2(l=l2_weight))"
      ],
      "execution_count": 17,
      "outputs": []
    },
    {
      "cell_type": "markdown",
      "metadata": {
        "id": "Sj3kZKoB4M2e"
      },
      "source": [
        "The Batch normalization layer:"
      ]
    },
    {
      "cell_type": "code",
      "metadata": {
        "id": "7DYcuAJe4M2e"
      },
      "source": [
        "def _batch_norm(inputs, is_training):\n",
        "  return tf.compat.v1.layers.batch_normalization(\n",
        "      inputs, momentum=0.999, epsilon=0.001, training=is_training)"
      ],
      "execution_count": 18,
      "outputs": []
    },
    {
      "cell_type": "markdown",
      "metadata": {
        "id": "nkxk7odV4M2g"
      },
      "source": [
        "The following operation is the [transpose](https://www.tensorflow.org/api_docs/python/tf/nn/conv2d_transpose) (gradient) of conv2d: "
      ]
    },
    {
      "cell_type": "code",
      "metadata": {
        "id": "Bt37g04R4M2h"
      },
      "source": [
        "def _deconv2d(inputs, filters, kernel_size, stride, l2_weight):\n",
        "  return tf.compat.v1.layers.conv2d_transpose(\n",
        "      inputs, filters, [kernel_size, kernel_size], strides=[stride, stride], \n",
        "      activation=tf.nn.relu, padding='same',\n",
        "      kernel_initializer=tf.keras.initializers.glorot_uniform,\n",
        "      kernel_regularizer=tf.keras.regularizers.l2(l=l2_weight),\n",
        "      bias_regularizer=tf.keras.regularizers.l2(l=l2_weight))"
      ],
      "execution_count": 19,
      "outputs": []
    },
    {
      "cell_type": "markdown",
      "metadata": {
        "id": "8W7KknLQ4M2j"
      },
      "source": [
        "And the 2D convolutional layer:"
      ]
    },
    {
      "cell_type": "code",
      "metadata": {
        "id": "m4Zq3P7p4M2k"
      },
      "source": [
        "def _conv2d(inputs, filters, kernel_size, stride, l2_weight):\n",
        "  return tf.compat.v1.layers.conv2d(\n",
        "      inputs, filters, [kernel_size, kernel_size], strides=[stride, stride], \n",
        "      activation=None, padding='same',\n",
        "      kernel_initializer=tf.keras.initializers.glorot_uniform,\n",
        "      kernel_regularizer=tf.keras.regularizers.l2(l=l2_weight),\n",
        "      bias_regularizer=tf.keras.regularizers.l2(l=l2_weight))"
      ],
      "execution_count": 20,
      "outputs": []
    },
    {
      "cell_type": "markdown",
      "metadata": {
        "id": "zZKMhd3P4M2n"
      },
      "source": [
        "Now we can define the **generator**:"
      ]
    },
    {
      "cell_type": "code",
      "metadata": {
        "id": "EBo3vaac4M2n"
      },
      "source": [
        "def unconditional_generator(noise, mode, weight_decay=2.5e-5):\n",
        "  \"\"\"Generator to produce unconditional MNIST images.\"\"\"\n",
        "  is_training = (mode == tf.estimator.ModeKeys.TRAIN)\n",
        "  \n",
        "  net = _dense(noise, 1024, weight_decay)\n",
        "  # print(net.shape)\n",
        "  net = _batch_norm(net, is_training)\n",
        "  net = tf.nn.relu(net)\n",
        "  \n",
        "  net = _dense(net, 7 * 7 * 256, weight_decay)\n",
        "  \n",
        "  # print(net.shape)\n",
        "  \n",
        "  net = _batch_norm(net, is_training)\n",
        "  net = tf.nn.relu(net)\n",
        "  \n",
        "  net = tf.reshape(\n",
        "      tensor=net,\n",
        "      shape=[-1, 7, 7, 256]\n",
        "      )\n",
        "  \n",
        "  # print(net.shape)\n",
        "\n",
        "  net = _deconv2d(\n",
        "      inputs=net,\n",
        "      filters=64,\n",
        "      kernel_size=4,\n",
        "      stride=2,\n",
        "      l2_weight=weight_decay\n",
        "      )\n",
        "  # print(net.shape)\n",
        "  \n",
        "  net = _deconv2d(\n",
        "    inputs=net,\n",
        "    filters=64,\n",
        "    kernel_size=4,\n",
        "    stride=2,\n",
        "    l2_weight=weight_decay\n",
        "    )\n",
        "  \n",
        "  # Make sure that generator output values are in the same range as `inputs`\n",
        "  # ie [-1, 1].\n",
        "\n",
        "  net = _conv2d(\n",
        "      inputs=net, \n",
        "      filters=1,\n",
        "      kernel_size=4,\n",
        "      stride=1,\n",
        "      l2_weight=0.0\n",
        "      )\n",
        "  \n",
        "  # print(net.shape)\n",
        "  \n",
        "  net = tf.tanh(net)\n",
        "\n",
        "  # print(net.shape)\n",
        "\n",
        "  return net"
      ],
      "execution_count": 29,
      "outputs": []
    },
    {
      "cell_type": "code",
      "metadata": {
        "id": "-OgnEqKp4M2p",
        "outputId": "bd917293-a4fd-417f-9639-77be8effe90e",
        "colab": {
          "base_uri": "https://localhost:8080/"
        }
      },
      "source": [
        "# to test the generator\n",
        "input_noise_for_generator = tf.random.normal([params['batch_size'], params['noise_dims']])\n",
        "print('The function tf.random.normal return a Tensor of shape: {}'.format(input_noise_for_generator.shape))\n",
        "\n",
        "gen_output = unconditional_generator(input_noise_for_generator, tf.estimator.ModeKeys.TRAIN)\n",
        "print('The function unconditional_generator return a Tensor of shape: {}'.format(gen_output.shape))"
      ],
      "execution_count": 32,
      "outputs": [
        {
          "output_type": "stream",
          "text": [
            "The function tf.random.normal return a Tensor of shape: (100, 64)\n",
            "The function unconditional_generator return a Tensor of shape: (100, 28, 28, 1)\n"
          ],
          "name": "stdout"
        }
      ]
    },
    {
      "cell_type": "markdown",
      "metadata": {
        "id": "vqCo1E2L4M2s"
      },
      "source": [
        "and we define the **discriminator**:"
      ]
    },
    {
      "cell_type": "markdown",
      "metadata": {
        "id": "kyNVVoM74M2t"
      },
      "source": [
        "We use the non-linear function [Leaky ReLU](https://ai.stanford.edu/%7Eamaas/papers/relu_hybrid_icml2013_final.pdf)  for the layers of the discriminator."
      ]
    },
    {
      "cell_type": "code",
      "metadata": {
        "id": "yjHRsS7s4M2t"
      },
      "source": [
        "_leaky_relu = lambda net: tf.nn.leaky_relu(net, alpha=0.01)"
      ],
      "execution_count": 23,
      "outputs": []
    },
    {
      "cell_type": "code",
      "metadata": {
        "id": "qf1zLiu84M2v"
      },
      "source": [
        "def unconditional_discriminator(img, unused_conditioning, mode, weight_decay=2.5e-5):\n",
        "  del unused_conditioning\n",
        "  is_training = (mode == tf.estimator.ModeKeys.TRAIN)\n",
        "  \n",
        "  net = _conv2d(img, 64, 4, 2, weight_decay)\n",
        "  net = _leaky_relu(net)\n",
        "  \n",
        "  net = _conv2d(net, 128, 4, 2, weight_decay)\n",
        "  net = _leaky_relu(net)\n",
        "  \n",
        "  net = tf.compat.v1.layers.flatten(net)\n",
        "  \n",
        "  net = _dense(net, 1024, weight_decay)\n",
        "  net = _batch_norm(net, is_training)\n",
        "  net = _leaky_relu(net)\n",
        "  \n",
        "  net = _dense(net, 1, weight_decay)\n",
        "\n",
        "  return net"
      ],
      "execution_count": 24,
      "outputs": []
    },
    {
      "cell_type": "markdown",
      "metadata": {
        "id": "xfS80wq54M2y"
      },
      "source": [
        "### Evaluating Generative Models, and evaluating GANs\n",
        "\n",
        "\n",
        "TF-GAN provides some standard methods of evaluating generative models. In this example, we measure:\n",
        "\n",
        "*  Inception Score: called `mnist_score` below.\n",
        "*  Frechet Inception Distance\n",
        "\n",
        "We apply a pre-trained classifier to both the real data and the generated data calculate the *Inception Score*.  The Inception Score is designed to measure both quality and diversity. See [Improved Techniques for Training GANs](https://arxiv.org/abs/1606.03498) by Salimans et al. for more information about the Inception Score. [Here](https://machinelearningmastery.com/how-to-implement-the-inception-score-from-scratch-for-evaluating-generated-images/) is a tutorial on how to implement the Inception Score.\n",
        "\n",
        "*[Frechet](https://reader.elsevier.com/reader/sd/pii/0047259X8290077X?token=ADEA650E997FB82F8F45DEDE5B3CD3BFA1442FC0C88F4ABA8865D974D827D43A84A49DEA8BC4DF1E03FEB20498CA2633) Inception Distance* measures how close the generated image distribution is to the real image distribution.  See [GANs Trained by a Two Time-Scale Update Rule Converge to a Local Nash Equilibrium](https://arxiv.org/abs/1706.08500) by Heusel et al. for more information about the Frechet Inception distance. In particular, the [Appendix A1](https://arxiv.org/pdf/1706.08500.pdf)."
      ]
    },
    {
      "cell_type": "code",
      "metadata": {
        "id": "YjkQoMa94M20"
      },
      "source": [
        "from tensorflow_gan.examples.mnist import util as eval_util\n",
        "import os\n",
        "\n",
        "def get_eval_metric_ops_fn(gan_model):\n",
        "  real_data_logits = tf.reduce_mean(gan_model.discriminator_real_outputs)\n",
        "  gen_data_logits = tf.reduce_mean(gan_model.discriminator_gen_outputs)\n",
        "  real_mnist_score = eval_util.mnist_score(gan_model.real_data)\n",
        "  generated_mnist_score = eval_util.mnist_score(gan_model.generated_data)\n",
        "  frechet_distance = eval_util.mnist_frechet_distance(\n",
        "      gan_model.real_data, gan_model.generated_data)\n",
        "  return {\n",
        "      'real_data_logits': tf.compat.v1.metrics.mean(real_data_logits),\n",
        "      'gen_data_logits': tf.compat.v1.metrics.mean(gen_data_logits),\n",
        "      'real_mnist_score': tf.compat.v1.metrics.mean(real_mnist_score),\n",
        "      'mnist_score': tf.compat.v1.metrics.mean(generated_mnist_score),\n",
        "      'frechet_distance': tf.compat.v1.metrics.mean(frechet_distance),\n",
        "  }"
      ],
      "execution_count": 50,
      "outputs": []
    },
    {
      "cell_type": "markdown",
      "metadata": {
        "id": "2Jv8VAlj4M23"
      },
      "source": [
        "### GANEstimator\n",
        "\n",
        "The `GANEstimator` assembles and manages the pieces of the whole GAN model. The `GANEstimator` constructor takes the following compoonents for both the generator and discriminator:\n",
        "\n",
        "*  Network builder functions: we defined these in the \"Neural Network Architecture\" section above.\n",
        "*  Loss functions: here we use the [wasserstein loss](https://arxiv.org/abs/1701.07875) for both.\n",
        "*  Optimizers: here we use `tf.train.AdamOptimizer` for both generator and discriminator training."
      ]
    },
    {
      "cell_type": "markdown",
      "metadata": {
        "id": "aI6RqMw34M23"
      },
      "source": [
        "### Wasserstein Loss\n",
        "\n",
        "By default, TF-GAN uses the [Wasserstein loss](https://developers.google.com/machine-learning/gan/loss).\n",
        "\n",
        "This loss function depends on a modification of the GAN scheme (called \"Wasserstein GAN\" or \"WGAN\") in which the discriminator does not actually classify instances. For each instance it outputs a number. This number does not have to be less than one or greater than 0, so we can't use 0.5 as a threshold to decide whether an instance is real or fake. Discriminator training just tries to make the output bigger for real instances than for fake instances.\n",
        "\n",
        "Because it can't really discriminate between real and fake, the WGAN discriminator is actually called a \"critic\" instead of a \"discriminator\". This distinction has theoretical importance, but for practical purposes we can treat it as an acknowledgement that the inputs to the loss functions don't have to be probabilities.\n",
        "\n",
        "The loss functions themselves are deceptively simple:\n",
        "\n",
        "Critic Loss: *D(x) - D(G(z))*\n",
        "\n",
        "The discriminator tries to maximize this function. In other words, it tries to maximize the difference between its output on real instances and its output on fake instances.\n",
        "\n",
        "Generator Loss: *D(G(z))*\n",
        "\n",
        "The generator tries to maximize this function. In other words, It tries to maximize the discriminator's output for its fake instances.\n",
        "\n",
        "In these functions:\n",
        "\n",
        "- *D(x)* is the critic's output for a real instance.\n",
        "- *G(z)* is the generator's output when given noise z.\n",
        "- *D(G(z))* is the critic's output for a fake instance.\n",
        "- The output of critic D does not have to be between 1 and 0.\n",
        "- The formulas derive from the [earth mover distance](https://en.wikipedia.org/wiki/Earth_mover's_distance) between the real and generated distributions.\n",
        "\n",
        "In TF-GAN, see [wasserstein_generator_loss and wasserstein_discriminator_loss](https://github.com/tensorflow/gan/blob/master/tensorflow_gan/python/losses/losses_impl.py) for implementations."
      ]
    },
    {
      "cell_type": "code",
      "metadata": {
        "id": "JTOpjeXn4M24"
      },
      "source": [
        "train_batch_size = 32 #@param\n",
        "noise_dimensions = 64 #@param\n",
        "generator_lr = 0.001 #@param\n",
        "discriminator_lr = 0.0002 #@param\n",
        "\n",
        "def gen_opt():\n",
        "  gstep = tf.compat.v1.train.get_or_create_global_step()\n",
        "  base_lr = generator_lr\n",
        "  # Halve the learning rate at 1000 steps.\n",
        "  lr = tf.cond(gstep < 1000, lambda: base_lr, lambda: base_lr / 2.0)\n",
        "  return tf.compat.v1.train.AdamOptimizer(lr, 0.5)\n",
        "\n",
        "gan_estimator = tfgan.estimator.GANEstimator(\n",
        "\n",
        "    generator_fn=unconditional_generator,\n",
        "\n",
        "    discriminator_fn=unconditional_discriminator,\n",
        "\n",
        "    generator_loss_fn=tfgan.losses.wasserstein_generator_loss,\n",
        "\n",
        "    discriminator_loss_fn=tfgan.losses.wasserstein_discriminator_loss,\n",
        "\n",
        "    params={'batch_size': train_batch_size, 'noise_dims': noise_dimensions},\n",
        "\n",
        "    generator_optimizer=gen_opt,\n",
        "\n",
        "    discriminator_optimizer=tf.compat.v1.train.AdamOptimizer(discriminator_lr, 0.5),\n",
        "\n",
        "    get_eval_metric_ops_fn=get_eval_metric_ops_fn\n",
        "\n",
        ")"
      ],
      "execution_count": 59,
      "outputs": []
    },
    {
      "cell_type": "markdown",
      "metadata": {
        "id": "GyxP2IAL4M26"
      },
      "source": [
        "### Train and eval loop\n",
        "\n",
        "The `GANEstimator`'s `train()` method initiates GAN training, including the alternating generator and discriminator training phases.\n",
        "\n",
        "The loop in the code below calls `train()` repeatedly in order to periodically display generator output and evaluation results. \n",
        "\n",
        "Note that the code below does not manage the alternation between discriminator and generator: that's all handled automatically by `train()`."
      ]
    },
    {
      "cell_type": "code",
      "metadata": {
        "scrolled": false,
        "id": "9Z5vD0k34M27",
        "outputId": "586c4cbe-9bd0-48e9-e613-405549172549",
        "colab": {
          "base_uri": "https://localhost:8080/",
          "height": 498
        }
      },
      "source": [
        "# Disable noisy output.\n",
        "tf.autograph.set_verbosity(0, False)\n",
        "\n",
        "import time\n",
        "steps_per_eval = 50 #@param\n",
        "max_train_steps = 500 #@param\n",
        "batches_for_eval_metrics = 10 #@param\n",
        "\n",
        "# Used to track metrics.\n",
        "steps = []\n",
        "real_logits, fake_logits = [], []\n",
        "real_mnist_scores, mnist_scores, frechet_distances = [], [], []\n",
        "\n",
        "cur_step = 0\n",
        "start_time = time.time()\n",
        "\n",
        "while cur_step < max_train_steps:\n",
        "    \n",
        "  next_step = min(cur_step + steps_per_eval, max_train_steps)\n",
        "\n",
        "  start = time.time()\n",
        "  gan_estimator.train(input_fn, max_steps=next_step)\n",
        "  steps_taken = next_step - cur_step\n",
        "  time_taken = time.time() - start\n",
        "  print('Time since start: %.2f min' % ((time.time() - start_time) / 60.0))\n",
        "  print('Trained from step %i to %i in %.2f steps / sec' % (\n",
        "      cur_step, next_step, steps_taken / time_taken))\n",
        "  cur_step = next_step\n",
        "  \n",
        "  # Calculate some metrics.\n",
        "  metrics = gan_estimator.evaluate(input_fn, \n",
        "                                   steps=batches_for_eval_metrics)\n",
        "  steps.append(cur_step)\n",
        "    \n",
        "  real_logits.append(metrics['real_data_logits'])\n",
        "  fake_logits.append(metrics['gen_data_logits'])\n",
        "  real_mnist_scores.append(metrics['real_mnist_score'])\n",
        "  mnist_scores.append(metrics['mnist_score'])\n",
        "  frechet_distances.append(metrics['frechet_distance'])\n",
        "\n",
        "  print('Average discriminator output on Real: %.2f  Fake: %.2f' % (\n",
        "      real_logits[-1], fake_logits[-1]))\n",
        "  print('Inception Score: %.2f / %.2f  Frechet Distance: %.2f' % (\n",
        "      mnist_scores[-1], real_mnist_scores[-1], frechet_distances[-1]))\n",
        "  \n",
        "  # Vizualize some images.\n",
        "  iterator = gan_estimator.predict(\n",
        "      input_fn, hooks=[tf.estimator.StopAtStepHook(num_steps=21)])\n",
        "  try:\n",
        "    imgs = np.array([next(iterator) for _ in range(20)])\n",
        "  except StopIteration:\n",
        "    pass\n",
        "  tiled = tfgan.eval.python_image_grid(imgs, grid_shape=(2, 10))\n",
        "  plt.axis('off')\n",
        "  plt.imshow(np.squeeze(tiled))\n",
        "  plt.show()\n"
      ],
      "execution_count": null,
      "outputs": [
        {
          "output_type": "stream",
          "text": [
            "Time since start: 0.95 min\n",
            "Trained from step 0 to 50 in 0.87 steps / sec\n",
            "Average discriminator output on Real: -0.32  Fake: -0.17\n",
            "Inception Score: 2.46 / 8.40  Frechet Distance: 219.35\n"
          ],
          "name": "stdout"
        },
        {
          "output_type": "display_data",
          "data": {
            "image/png": "[encoded data removed]",
            "text/plain": [
              "<Figure size 432x288 with 1 Axes>"
            ]
          },
          "metadata": {
            "tags": [],
            "needs_background": "light"
          }
        },
        {
          "output_type": "stream",
          "text": [
            "Time since start: 2.11 min\n",
            "Trained from step 50 to 100 in 0.88 steps / sec\n",
            "Average discriminator output on Real: -0.37  Fake: -0.14\n",
            "Inception Score: 3.58 / 8.40  Frechet Distance: 148.08\n"
          ],
          "name": "stdout"
        },
        {
          "output_type": "display_data",
          "data": {
            "image/png": "[encoded data removed]",
            "text/plain": [
              "<Figure size 432x288 with 1 Axes>"
            ]
          },
          "metadata": {
            "tags": [],
            "needs_background": "light"
          }
        },
        {
          "output_type": "stream",
          "text": [
            "Time since start: 3.24 min\n",
            "Trained from step 100 to 150 in 0.90 steps / sec\n",
            "Average discriminator output on Real: -0.43  Fake: -0.41\n",
            "Inception Score: 4.17 / 8.40  Frechet Distance: 133.68\n"
          ],
          "name": "stdout"
        },
        {
          "output_type": "display_data",
          "data": {
            "image/png": "[encoded data removed]",
            "text/plain": [
              "<Figure size 432x288 with 1 Axes>"
            ]
          },
          "metadata": {
            "tags": [],
            "needs_background": "light"
          }
        },
        {
          "output_type": "stream",
          "text": [
            "Time since start: 4.38 min\n",
            "Trained from step 150 to 200 in 0.89 steps / sec\n"
          ],
          "name": "stdout"
        }
      ]
    },
    {
      "cell_type": "code",
      "metadata": {
        "id": "kiKIx8oKxY-X"
      },
      "source": [
        "# Plot the metrics vs step.\n",
        "plt.title('MNIST Frechet distance per step')\n",
        "plt.plot(steps, frechet_distances)\n",
        "plt.figure()\n",
        "plt.title('MNIST Score per step')\n",
        "plt.plot(steps, mnist_scores)\n",
        "plt.plot(steps, real_mnist_scores)\n",
        "plt.show()"
      ],
      "execution_count": null,
      "outputs": []
    },
    {
      "cell_type": "code",
      "metadata": {
        "id": "jRsOFBpn4M3A"
      },
      "source": [
        ""
      ],
      "execution_count": null,
      "outputs": []
    }
  ]
}