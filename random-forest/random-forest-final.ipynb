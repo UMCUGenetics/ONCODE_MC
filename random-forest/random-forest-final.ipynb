{
 "cells": [
  {
   "cell_type": "markdown",
   "metadata": {},
   "source": [
    "# RandomForests for RNASeq expression classification"
   ]
  },
  {
   "cell_type": "markdown",
   "metadata": {},
   "source": [
    "# 1. Introduction (Liting)\n",
    "\n",
    "- Supervised classification\n",
    "- Random forests (concept)\n",
    "- Vocabulary (features, labels, classes)"
   ]
  },
  {
   "cell_type": "markdown",
   "metadata": {},
   "source": [
    "# 2.1 Getting started (Liting)\n",
    "\n",
    "- Introudce Libaries / Python / Pandas etc.\n"
   ]
  },
  {
   "cell_type": "code",
   "execution_count": 91,
   "metadata": {},
   "outputs": [],
   "source": [
    "import pandas as pd\n",
    "import numpy as np\n",
    "from sklearn.model_selection import train_test_split\n",
    "from sklearn.ensemble import RandomForestClassifier\n",
    "from sklearn.metrics import confusion_matrix\n",
    "from sklearn.metrics import roc_auc_score\n",
    "from sklearn.metrics import roc_curve, auc\n",
    "import matplotlib.pyplot as plt"
   ]
  },
  {
   "cell_type": "markdown",
   "metadata": {},
   "source": [
    "# 2.2 Loading the dataset\n",
    "\n",
    "In this session we will use an expression dataset that contains 714 miRNA expression signatures for 29 tumor/normal pairs in human cervical tissue. The measured expression levels or read-counts (features) and tumor normal categories (labels) will be used as input to train our RandomForest model."
   ]
  },
  {
   "cell_type": "markdown",
   "metadata": {},
   "source": [
    "First, let's import our dataset and see what's in there."
   ]
  },
  {
   "cell_type": "code",
   "execution_count": 92,
   "metadata": {},
   "outputs": [],
   "source": [
    "try:\n",
    "    exprm = pd.read_csv(\"./datasets/exprm.txt\", sep=\"\\t\")\n",
    "except Exception:\n",
    "    print(\"An error occured while reading the data\")"
   ]
  },
  {
   "cell_type": "markdown",
   "metadata": {},
   "source": [
    "Let's print the first 5 rows of our expression dataset."
   ]
  },
  {
   "cell_type": "code",
   "execution_count": 93,
   "metadata": {},
   "outputs": [
    {
     "data": {
      "text/html": [
       "<div>\n",
       "<style scoped>\n",
       "    .dataframe tbody tr th:only-of-type {\n",
       "        vertical-align: middle;\n",
       "    }\n",
       "\n",
       "    .dataframe tbody tr th {\n",
       "        vertical-align: top;\n",
       "    }\n",
       "\n",
       "    .dataframe thead th {\n",
       "        text-align: right;\n",
       "    }\n",
       "</style>\n",
       "<table border=\"1\" class=\"dataframe\">\n",
       "  <thead>\n",
       "    <tr style=\"text-align: right;\">\n",
       "      <th></th>\n",
       "      <th>N1</th>\n",
       "      <th>N2</th>\n",
       "      <th>N3</th>\n",
       "      <th>N4</th>\n",
       "      <th>N5</th>\n",
       "      <th>N6</th>\n",
       "      <th>N7</th>\n",
       "      <th>N8</th>\n",
       "      <th>N9</th>\n",
       "      <th>N10</th>\n",
       "      <th>...</th>\n",
       "      <th>T20</th>\n",
       "      <th>T21</th>\n",
       "      <th>T22</th>\n",
       "      <th>T23</th>\n",
       "      <th>T24</th>\n",
       "      <th>T25</th>\n",
       "      <th>T26</th>\n",
       "      <th>T27</th>\n",
       "      <th>T28</th>\n",
       "      <th>T29</th>\n",
       "    </tr>\n",
       "  </thead>\n",
       "  <tbody>\n",
       "    <tr>\n",
       "      <th>let-7a</th>\n",
       "      <td>865</td>\n",
       "      <td>810</td>\n",
       "      <td>5505</td>\n",
       "      <td>6692</td>\n",
       "      <td>1456</td>\n",
       "      <td>588</td>\n",
       "      <td>9</td>\n",
       "      <td>4513</td>\n",
       "      <td>1962</td>\n",
       "      <td>10167</td>\n",
       "      <td>...</td>\n",
       "      <td>37</td>\n",
       "      <td>3174</td>\n",
       "      <td>116</td>\n",
       "      <td>1722</td>\n",
       "      <td>68</td>\n",
       "      <td>12121</td>\n",
       "      <td>14398</td>\n",
       "      <td>39196</td>\n",
       "      <td>198</td>\n",
       "      <td>1422</td>\n",
       "    </tr>\n",
       "    <tr>\n",
       "      <th>let-7a*</th>\n",
       "      <td>3</td>\n",
       "      <td>12</td>\n",
       "      <td>30</td>\n",
       "      <td>73</td>\n",
       "      <td>6</td>\n",
       "      <td>2</td>\n",
       "      <td>0</td>\n",
       "      <td>199</td>\n",
       "      <td>10</td>\n",
       "      <td>173</td>\n",
       "      <td>...</td>\n",
       "      <td>0</td>\n",
       "      <td>648</td>\n",
       "      <td>4</td>\n",
       "      <td>212</td>\n",
       "      <td>6</td>\n",
       "      <td>2</td>\n",
       "      <td>80</td>\n",
       "      <td>164</td>\n",
       "      <td>18</td>\n",
       "      <td>1</td>\n",
       "    </tr>\n",
       "    <tr>\n",
       "      <th>let-7b</th>\n",
       "      <td>975</td>\n",
       "      <td>2790</td>\n",
       "      <td>4912</td>\n",
       "      <td>24286</td>\n",
       "      <td>1759</td>\n",
       "      <td>508</td>\n",
       "      <td>33</td>\n",
       "      <td>6162</td>\n",
       "      <td>1455</td>\n",
       "      <td>18110</td>\n",
       "      <td>...</td>\n",
       "      <td>99</td>\n",
       "      <td>102358</td>\n",
       "      <td>184</td>\n",
       "      <td>28274</td>\n",
       "      <td>401</td>\n",
       "      <td>14471</td>\n",
       "      <td>24097</td>\n",
       "      <td>73139</td>\n",
       "      <td>669</td>\n",
       "      <td>2492</td>\n",
       "    </tr>\n",
       "    <tr>\n",
       "      <th>let-7b*</th>\n",
       "      <td>15</td>\n",
       "      <td>18</td>\n",
       "      <td>27</td>\n",
       "      <td>119</td>\n",
       "      <td>11</td>\n",
       "      <td>3</td>\n",
       "      <td>0</td>\n",
       "      <td>116</td>\n",
       "      <td>17</td>\n",
       "      <td>233</td>\n",
       "      <td>...</td>\n",
       "      <td>0</td>\n",
       "      <td>334</td>\n",
       "      <td>1</td>\n",
       "      <td>189</td>\n",
       "      <td>5</td>\n",
       "      <td>34</td>\n",
       "      <td>115</td>\n",
       "      <td>230</td>\n",
       "      <td>4</td>\n",
       "      <td>15</td>\n",
       "    </tr>\n",
       "    <tr>\n",
       "      <th>let-7c</th>\n",
       "      <td>828</td>\n",
       "      <td>1251</td>\n",
       "      <td>2973</td>\n",
       "      <td>6413</td>\n",
       "      <td>713</td>\n",
       "      <td>339</td>\n",
       "      <td>23</td>\n",
       "      <td>2002</td>\n",
       "      <td>476</td>\n",
       "      <td>3294</td>\n",
       "      <td>...</td>\n",
       "      <td>34</td>\n",
       "      <td>1711</td>\n",
       "      <td>22</td>\n",
       "      <td>3127</td>\n",
       "      <td>199</td>\n",
       "      <td>3186</td>\n",
       "      <td>1454</td>\n",
       "      <td>5883</td>\n",
       "      <td>167</td>\n",
       "      <td>321</td>\n",
       "    </tr>\n",
       "  </tbody>\n",
       "</table>\n",
       "<p>5 rows × 58 columns</p>\n",
       "</div>"
      ],
      "text/plain": [
       "          N1    N2    N3     N4    N5   N6  N7    N8    N9    N10  ...  T20  \\\n",
       "let-7a   865   810  5505   6692  1456  588   9  4513  1962  10167  ...   37   \n",
       "let-7a*    3    12    30     73     6    2   0   199    10    173  ...    0   \n",
       "let-7b   975  2790  4912  24286  1759  508  33  6162  1455  18110  ...   99   \n",
       "let-7b*   15    18    27    119    11    3   0   116    17    233  ...    0   \n",
       "let-7c   828  1251  2973   6413   713  339  23  2002   476   3294  ...   34   \n",
       "\n",
       "            T21  T22    T23  T24    T25    T26    T27  T28   T29  \n",
       "let-7a     3174  116   1722   68  12121  14398  39196  198  1422  \n",
       "let-7a*     648    4    212    6      2     80    164   18     1  \n",
       "let-7b   102358  184  28274  401  14471  24097  73139  669  2492  \n",
       "let-7b*     334    1    189    5     34    115    230    4    15  \n",
       "let-7c     1711   22   3127  199   3186   1454   5883  167   321  \n",
       "\n",
       "[5 rows x 58 columns]"
      ]
     },
     "execution_count": 93,
     "metadata": {},
     "output_type": "execute_result"
    }
   ],
   "source": [
    "exprm.head(n=5)"
   ]
  },
  {
   "cell_type": "markdown",
   "metadata": {},
   "source": [
    "### Question\n",
    "- What is the dimension of the dataset above/ what type of numerical data does it contain?\n",
    "- Which dimension contains the features and which contains the attributes?\n",
    "\n",
    "#### TIp \n",
    "You can access a dataframe's dimension with the `dim()` function."
   ]
  },
  {
   "cell_type": "markdown",
   "metadata": {},
   "source": [
    "# 2.3 Pre-proccesing -  Expression normalization"
   ]
  },
  {
   "cell_type": "markdown",
   "metadata": {},
   "source": [
    "A common normalization technique in differential gene expression analysis is the Median of Ratios normalization, which is used by [DESeq2](https://genomebiology.biomedcentral.com/articles/10.1186/s13059-014-0550-8), one of the  major statistical tools for differential expression analysis. Briefly, this method corrects for differences in sequencing library size (number of reads), composition of the library(tissue specific genes) and is siuted for intra sample comparisons. Without accounting for these confounding factors, detected differences between classes could mask the true biological variation.\n",
    "\n",
    "Here we implement our own version of the Median of Ratios method. However, several more RNA sepecific normalization methods exist, such as Trimmed Mean (TMM) and Counts per million (CPM) for example.\n"
   ]
  },
  {
   "cell_type": "markdown",
   "metadata": {},
   "source": [
    "First, we transforn the raw read counts to log2 values."
   ]
  },
  {
   "cell_type": "code",
   "execution_count": 94,
   "metadata": {},
   "outputs": [],
   "source": [
    "exprm_log2 = exprm.apply(np.log2) # Perform a log transformation of our dataset.\n",
    "means =  exprm_log2.apply(np.mean,1) # Calculate the geometric mean for each gene\n",
    "idxs = means > 0 # Filter 0 Counts values\n",
    "means = means[idxs] # Select geometric means with > 0 expression."
   ]
  },
  {
   "cell_type": "markdown",
   "metadata": {},
   "source": [
    "Secondly, we caclulate the row-wise means of the log expression values. These size factors serve as a \"pseudo\" references to normalize our raw read_counts."
   ]
  },
  {
   "cell_type": "code",
   "execution_count": 95,
   "metadata": {},
   "outputs": [],
   "source": [
    "diff = exprm_log2[idxs].sub(means,\"index\") # Calculate mean expr. ratios for each gene's expression per sample.\n",
    "size_factors = diff.apply(lambda counts: np.median(counts),1) # Select median ratio for normalization"
   ]
  },
  {
   "cell_type": "markdown",
   "metadata": {},
   "source": [
    "Finally, we divide each gene's expression profile by its corresponding size factor."
   ]
  },
  {
   "cell_type": "code",
   "execution_count": 100,
   "metadata": {},
   "outputs": [],
   "source": [
    "exprm_normalized = exprm[idxs].divide(np.exp(size_factors),'index')"
   ]
  },
  {
   "cell_type": "markdown",
   "metadata": {},
   "source": [
    "### Question\n",
    "- Why did we perform a log2 transformation ?\n",
    "- What is the rational behind size-factors ?\n"
   ]
  },
  {
   "cell_type": "markdown",
   "metadata": {},
   "source": [
    "# 2.4 Pre-processing - Transformation"
   ]
  },
  {
   "cell_type": "markdown",
   "metadata": {},
   "source": [
    "As a convention, most machine learning toolkits, such as Scikit-learn, expect the features of a dataset to be arranged in rows and attributes in columns.\n",
    "\n",
    "This can be easily accomplished by Pandas's `transpose()` command.\n"
   ]
  },
  {
   "cell_type": "code",
   "execution_count": 97,
   "metadata": {},
   "outputs": [],
   "source": [
    "exprm_normalized_t = exprm_normalized.transpose()"
   ]
  },
  {
   "cell_type": "markdown",
   "metadata": {},
   "source": [
    "The expression dataset is currently missing a definition of which sample belongs to the tumor or normal class. \n",
    "\n",
    "For your convenience, we prepared a metadata file that contains the mampping between samples and biological condition."
   ]
  },
  {
   "cell_type": "code",
   "execution_count": 98,
   "metadata": {},
   "outputs": [],
   "source": [
    "try:\n",
    "    exprm_meta = pd.read_csv(\"./datasets/exprm_meta.txt\", sep=\"\\t\")\n",
    "    exprm_meta = exprm_meta.set_index(\"sample\")\n",
    "except Exception:\n",
    "    print(\"An error occured while reading the data\")"
   ]
  },
  {
   "cell_type": "markdown",
   "metadata": {},
   "source": [
    "To ensure that the labels (N,T) are assigned to the correct expression measurements, we merge both datasets by the index row which consists of the sample names, a shared column between both the expression and metadata."
   ]
  },
  {
   "cell_type": "code",
   "execution_count": 99,
   "metadata": {},
   "outputs": [
    {
     "data": {
      "text/html": [
       "<div>\n",
       "<style scoped>\n",
       "    .dataframe tbody tr th:only-of-type {\n",
       "        vertical-align: middle;\n",
       "    }\n",
       "\n",
       "    .dataframe tbody tr th {\n",
       "        vertical-align: top;\n",
       "    }\n",
       "\n",
       "    .dataframe thead th {\n",
       "        text-align: right;\n",
       "    }\n",
       "</style>\n",
       "<table border=\"1\" class=\"dataframe\">\n",
       "  <thead>\n",
       "    <tr style=\"text-align: right;\">\n",
       "      <th></th>\n",
       "      <th>let-7a</th>\n",
       "      <th>let-7b</th>\n",
       "      <th>let-7c</th>\n",
       "      <th>let-7d</th>\n",
       "      <th>let-7e</th>\n",
       "      <th>let-7f</th>\n",
       "      <th>let-7g</th>\n",
       "      <th>let-7i</th>\n",
       "      <th>miR-100</th>\n",
       "      <th>miR-101</th>\n",
       "      <th>...</th>\n",
       "      <th>miR-30d</th>\n",
       "      <th>miR-320a</th>\n",
       "      <th>miR-335</th>\n",
       "      <th>miR-423-5p</th>\n",
       "      <th>miR-424</th>\n",
       "      <th>miR-451</th>\n",
       "      <th>miR-484</th>\n",
       "      <th>miR-99a</th>\n",
       "      <th>miR-99b</th>\n",
       "      <th>condition</th>\n",
       "    </tr>\n",
       "  </thead>\n",
       "  <tbody>\n",
       "    <tr>\n",
       "      <th>N1</th>\n",
       "      <td>461.133238</td>\n",
       "      <td>824.339370</td>\n",
       "      <td>519.774909</td>\n",
       "      <td>53.624715</td>\n",
       "      <td>113.030646</td>\n",
       "      <td>272.521920</td>\n",
       "      <td>228.290651</td>\n",
       "      <td>192.462612</td>\n",
       "      <td>93.418331</td>\n",
       "      <td>74.333529</td>\n",
       "      <td>...</td>\n",
       "      <td>102.579715</td>\n",
       "      <td>217.478852</td>\n",
       "      <td>76.826994</td>\n",
       "      <td>21.811653</td>\n",
       "      <td>7.749540</td>\n",
       "      <td>73.866171</td>\n",
       "      <td>14.870288</td>\n",
       "      <td>236.846561</td>\n",
       "      <td>17.781587</td>\n",
       "      <td>N</td>\n",
       "    </tr>\n",
       "    <tr>\n",
       "      <th>N2</th>\n",
       "      <td>431.812627</td>\n",
       "      <td>2358.878812</td>\n",
       "      <td>785.312090</td>\n",
       "      <td>74.017212</td>\n",
       "      <td>100.991879</td>\n",
       "      <td>91.958188</td>\n",
       "      <td>88.354100</td>\n",
       "      <td>242.774416</td>\n",
       "      <td>67.758360</td>\n",
       "      <td>126.226747</td>\n",
       "      <td>...</td>\n",
       "      <td>168.035343</td>\n",
       "      <td>950.165907</td>\n",
       "      <td>48.460104</td>\n",
       "      <td>62.918230</td>\n",
       "      <td>550.217320</td>\n",
       "      <td>100.598690</td>\n",
       "      <td>26.766519</td>\n",
       "      <td>250.616710</td>\n",
       "      <td>68.162751</td>\n",
       "      <td>N</td>\n",
       "    </tr>\n",
       "    <tr>\n",
       "      <th>N3</th>\n",
       "      <td>2934.726560</td>\n",
       "      <td>4152.979471</td>\n",
       "      <td>1866.293240</td>\n",
       "      <td>274.921074</td>\n",
       "      <td>527.030466</td>\n",
       "      <td>1674.884280</td>\n",
       "      <td>981.598729</td>\n",
       "      <td>728.323247</td>\n",
       "      <td>275.042812</td>\n",
       "      <td>378.212734</td>\n",
       "      <td>...</td>\n",
       "      <td>213.951977</td>\n",
       "      <td>853.865308</td>\n",
       "      <td>128.241982</td>\n",
       "      <td>68.790599</td>\n",
       "      <td>27.898343</td>\n",
       "      <td>1022.870601</td>\n",
       "      <td>56.507096</td>\n",
       "      <td>642.377445</td>\n",
       "      <td>71.867248</td>\n",
       "      <td>N</td>\n",
       "    </tr>\n",
       "    <tr>\n",
       "      <th>N4</th>\n",
       "      <td>3567.518645</td>\n",
       "      <td>20533.236858</td>\n",
       "      <td>4025.744551</td>\n",
       "      <td>1427.474808</td>\n",
       "      <td>3879.827071</td>\n",
       "      <td>6938.053670</td>\n",
       "      <td>2074.533838</td>\n",
       "      <td>3088.186400</td>\n",
       "      <td>140.728903</td>\n",
       "      <td>377.277721</td>\n",
       "      <td>...</td>\n",
       "      <td>503.129078</td>\n",
       "      <td>1393.148661</td>\n",
       "      <td>1154.768814</td>\n",
       "      <td>114.091724</td>\n",
       "      <td>533.684969</td>\n",
       "      <td>375.662243</td>\n",
       "      <td>44.610865</td>\n",
       "      <td>887.486095</td>\n",
       "      <td>114.098518</td>\n",
       "      <td>N</td>\n",
       "    </tr>\n",
       "    <tr>\n",
       "      <th>N5</th>\n",
       "      <td>776.196525</td>\n",
       "      <td>1487.192771</td>\n",
       "      <td>447.583949</td>\n",
       "      <td>141.992203</td>\n",
       "      <td>205.996680</td>\n",
       "      <td>543.128045</td>\n",
       "      <td>251.783649</td>\n",
       "      <td>356.974223</td>\n",
       "      <td>21.650600</td>\n",
       "      <td>75.736048</td>\n",
       "      <td>...</td>\n",
       "      <td>56.663081</td>\n",
       "      <td>678.919221</td>\n",
       "      <td>20.684191</td>\n",
       "      <td>99.830259</td>\n",
       "      <td>63.546226</td>\n",
       "      <td>73.162684</td>\n",
       "      <td>35.688692</td>\n",
       "      <td>114.292236</td>\n",
       "      <td>65.199153</td>\n",
       "      <td>N</td>\n",
       "    </tr>\n",
       "  </tbody>\n",
       "</table>\n",
       "<p>5 rows × 46 columns</p>\n",
       "</div>"
      ],
      "text/plain": [
       "         let-7a        let-7b       let-7c       let-7d       let-7e  \\\n",
       "N1   461.133238    824.339370   519.774909    53.624715   113.030646   \n",
       "N2   431.812627   2358.878812   785.312090    74.017212   100.991879   \n",
       "N3  2934.726560   4152.979471  1866.293240   274.921074   527.030466   \n",
       "N4  3567.518645  20533.236858  4025.744551  1427.474808  3879.827071   \n",
       "N5   776.196525   1487.192771   447.583949   141.992203   205.996680   \n",
       "\n",
       "         let-7f       let-7g       let-7i     miR-100     miR-101  ...  \\\n",
       "N1   272.521920   228.290651   192.462612   93.418331   74.333529  ...   \n",
       "N2    91.958188    88.354100   242.774416   67.758360  126.226747  ...   \n",
       "N3  1674.884280   981.598729   728.323247  275.042812  378.212734  ...   \n",
       "N4  6938.053670  2074.533838  3088.186400  140.728903  377.277721  ...   \n",
       "N5   543.128045   251.783649   356.974223   21.650600   75.736048  ...   \n",
       "\n",
       "       miR-30d     miR-320a      miR-335  miR-423-5p     miR-424      miR-451  \\\n",
       "N1  102.579715   217.478852    76.826994   21.811653    7.749540    73.866171   \n",
       "N2  168.035343   950.165907    48.460104   62.918230  550.217320   100.598690   \n",
       "N3  213.951977   853.865308   128.241982   68.790599   27.898343  1022.870601   \n",
       "N4  503.129078  1393.148661  1154.768814  114.091724  533.684969   375.662243   \n",
       "N5   56.663081   678.919221    20.684191   99.830259   63.546226    73.162684   \n",
       "\n",
       "      miR-484     miR-99a     miR-99b  condition  \n",
       "N1  14.870288  236.846561   17.781587          N  \n",
       "N2  26.766519  250.616710   68.162751          N  \n",
       "N3  56.507096  642.377445   71.867248          N  \n",
       "N4  44.610865  887.486095  114.098518          N  \n",
       "N5  35.688692  114.292236   65.199153          N  \n",
       "\n",
       "[5 rows x 46 columns]"
      ]
     },
     "execution_count": 99,
     "metadata": {},
     "output_type": "execute_result"
    }
   ],
   "source": [
    "exprm_all = pd.merge(exprm_normalized_t, exprm_meta, left_index=True, right_index=True)\n",
    "exprm_all.head(n=5)"
   ]
  },
  {
   "cell_type": "markdown",
   "metadata": {},
   "source": [
    "### Question \n",
    "- What is the advantage of merging the two files by a common column? Couldn't we just simply 'copy & paste' the class labels? \n",
    "- What happend to the rows/columns of our dataframe after transposition? "
   ]
  },
  {
   "cell_type": "markdown",
   "metadata": {},
   "source": [
    "# 3. 1 Train and Test sets (Liting)\n",
    "We need to split our dataset into a train and test-set. In a situation where no dedicated train/test sets are available, we usually reserve 2/3 of the initial dataset for training and 1/3 for testing\n",
    "We need to define the size of our test set to split the dataset accordingly. The Random state ensures that our results are reproducible.\n"
   ]
  },
  {
   "cell_type": "code",
   "execution_count": 102,
   "metadata": {},
   "outputs": [],
   "source": [
    "test_size = 0.33\n",
    "random_state = 123"
   ]
  },
  {
   "cell_type": "markdown",
   "metadata": {},
   "source": [
    "Split the dataset into train and test-set."
   ]
  },
  {
   "cell_type": "code",
   "execution_count": 103,
   "metadata": {},
   "outputs": [
    {
     "ename": "NameError",
     "evalue": "name 'features' is not defined",
     "output_type": "error",
     "traceback": [
      "\u001b[0;31m---------------------------------------------------------------------------\u001b[0m",
      "\u001b[0;31mNameError\u001b[0m                                 Traceback (most recent call last)",
      "\u001b[0;32m<ipython-input-103-376bdd94a53d>\u001b[0m in \u001b[0;36m<module>\u001b[0;34m\u001b[0m\n\u001b[0;32m----> 1\u001b[0;31m \u001b[0mX_train\u001b[0m\u001b[0;34m,\u001b[0m \u001b[0mX_test\u001b[0m\u001b[0;34m,\u001b[0m \u001b[0my_train\u001b[0m\u001b[0;34m,\u001b[0m \u001b[0my_test\u001b[0m \u001b[0;34m=\u001b[0m \u001b[0mtrain_test_split\u001b[0m\u001b[0;34m(\u001b[0m\u001b[0mfeatures\u001b[0m\u001b[0;34m,\u001b[0m \u001b[0mclasses\u001b[0m\u001b[0;34m,\u001b[0m \u001b[0mtest_size\u001b[0m\u001b[0;34m=\u001b[0m\u001b[0mtest_size\u001b[0m\u001b[0;34m,\u001b[0m \u001b[0mrandom_state\u001b[0m\u001b[0;34m=\u001b[0m\u001b[0mrandom_state\u001b[0m\u001b[0;34m)\u001b[0m\u001b[0;34m\u001b[0m\u001b[0;34m\u001b[0m\u001b[0m\n\u001b[0m",
      "\u001b[0;31mNameError\u001b[0m: name 'features' is not defined"
     ]
    }
   ],
   "source": [
    "X_train, X_test, y_train, y_test = train_test_split(features, classes, test_size=test_size, random_state=random_state)\n"
   ]
  },
  {
   "cell_type": "markdown",
   "metadata": {},
   "source": [
    "# 3.1 Random Forest  - Training (Tilman)\n",
    "\n",
    "Create a new RandomForest instance with n trees."
   ]
  },
  {
   "cell_type": "code",
   "execution_count": null,
   "metadata": {},
   "outputs": [],
   "source": [
    "max_depth=2\n",
    "random_state=123\n",
    "n_trees=5000\n",
    "rf = RandomForestClassifier(max_depth=2, \n",
    "                            random_state=random_state,\n",
    "                            bootstrap=True,\n",
    "                            max_features = 'sqrt',\n",
    "                            n_estimators=n_trees)\n",
    "\n",
    "# Criterion splitting/scoring\n",
    "# Print one tree and explain decision path\n",
    "# Plot one tree"
   ]
  },
  {
   "cell_type": "markdown",
   "metadata": {},
   "source": [
    "We train our classifier on the testset that we previously created. In this steps, the actual \"learning\" takes place."
   ]
  },
  {
   "cell_type": "code",
   "execution_count": null,
   "metadata": {},
   "outputs": [],
   "source": [
    "rf.fit(X_train, y_train) #We should use OOB score here and plot it shomewhere."
   ]
  },
  {
   "cell_type": "markdown",
   "metadata": {},
   "source": [
    "# 3.2 Random Forest - Prediciting (Liting)\n",
    "\n",
    "Let's predict the classes of our test-set"
   ]
  },
  {
   "cell_type": "code",
   "execution_count": 104,
   "metadata": {},
   "outputs": [
    {
     "ename": "NameError",
     "evalue": "name 'Tilman' is not defined",
     "output_type": "error",
     "traceback": [
      "\u001b[0;31m---------------------------------------------------------------------------\u001b[0m",
      "\u001b[0;31mNameError\u001b[0m                                 Traceback (most recent call last)",
      "\u001b[0;32m<ipython-input-104-e62b84f56987>\u001b[0m in \u001b[0;36m<module>\u001b[0;34m\u001b[0m\n\u001b[0;32m----> 1\u001b[0;31m \u001b[0mTilman\u001b[0m\u001b[0;34m\u001b[0m\u001b[0;34m\u001b[0m\u001b[0m\n\u001b[0m\u001b[1;32m      2\u001b[0m \u001b[0;34m\u001b[0m\u001b[0m\n\u001b[1;32m      3\u001b[0m \u001b[0mscore\u001b[0m \u001b[0;34m=\u001b[0m \u001b[0mrf\u001b[0m\u001b[0;34m.\u001b[0m\u001b[0mpredict\u001b[0m\u001b[0;34m(\u001b[0m\u001b[0mX_test\u001b[0m\u001b[0;34m)\u001b[0m \u001b[0;31m#Score predictions\u001b[0m\u001b[0;34m\u001b[0m\u001b[0;34m\u001b[0m\u001b[0m\n\u001b[1;32m      4\u001b[0m \u001b[0mprobs\u001b[0m \u001b[0;34m=\u001b[0m \u001b[0mrf\u001b[0m\u001b[0;34m.\u001b[0m\u001b[0mpredict_proba\u001b[0m\u001b[0;34m(\u001b[0m\u001b[0mX_test\u001b[0m\u001b[0;34m)\u001b[0m\u001b[0;34m[\u001b[0m\u001b[0;34m:\u001b[0m\u001b[0;34m,\u001b[0m \u001b[0;36m1\u001b[0m\u001b[0;34m]\u001b[0m \u001b[0;31m#Score as class probs\u001b[0m\u001b[0;34m\u001b[0m\u001b[0;34m\u001b[0m\u001b[0m\n",
      "\u001b[0;31mNameError\u001b[0m: name 'Tilman' is not defined"
     ]
    }
   ],
   "source": [
    " Tilman\n",
    "\n",
    "score = rf.predict(X_test) #Score predictions\n",
    "probs = rf.predict_proba(X_test)[:, 1] #Score as class probs"
   ]
  },
  {
   "cell_type": "code",
   "execution_count": null,
   "metadata": {},
   "outputs": [],
   "source": [
    "print(sorted(zip(map(lambda x: round(x, 4), score), X_train.index),reverse=True))\n"
   ]
  },
  {
   "cell_type": "markdown",
   "metadata": {},
   "source": [
    "# 3.3 Feature importances (Liting)"
   ]
  },
  {
   "cell_type": "code",
   "execution_count": null,
   "metadata": {},
   "outputs": [],
   "source": [
    "print(sorted(zip(map(lambda x: round(x, 4), rf.feature_importances_), X_train.columns),reverse=True))"
   ]
  },
  {
   "cell_type": "markdown",
   "metadata": {},
   "source": [
    "# 3.4 Measuring performance - Receiver operator curves (Tilman)"
   ]
  },
  {
   "cell_type": "markdown",
   "metadata": {},
   "source": [
    "Calculate some performance stats."
   ]
  },
  {
   "cell_type": "code",
   "execution_count": null,
   "metadata": {},
   "outputs": [],
   "source": [
    "fpr, tpr, thresholds = roc_curve(y_test, probs)\n",
    "roc_auc = roc_auc_score(y_test, probs)\n",
    "# Only works for binary more "
   ]
  },
  {
   "cell_type": "code",
   "execution_count": null,
   "metadata": {},
   "outputs": [],
   "source": [
    "plt.plot(fpr, tpr, label='ROC curve (area = %0.3f)' % roc_auc) # https://stackoverflow.com/questions/34564830/roc-curve-with-sklearn-python\n",
    "plt.plot([0, 1], [0, 1], 'k--')  # random predictions curve\n",
    "plt.xlim([0.0, 1.0])\n",
    "plt.ylim([0.0, 1.0])\n",
    "plt.xlabel('False Positive Rate or (1 - Specifity)')\n",
    "plt.ylabel('True Positive Rate or (Sensitivity)')\n",
    "plt.title('Receiver Operating Characteristic')\n",
    "plt.legend(loc=\"lower right\")"
   ]
  },
  {
   "cell_type": "markdown",
   "metadata": {},
   "source": [
    "# 3.5 - Measuring performance - confusion matrices (Liting)"
   ]
  },
  {
   "cell_type": "markdown",
   "metadata": {},
   "source": [
    "# Extra practice: \n",
    "- Linear classifier, logistic regression\n",
    "- Compare results across classifiers\n",
    "    "
   ]
  },
  {
   "cell_type": "markdown",
   "metadata": {},
   "source": [
    "# More Ideas"
   ]
  },
  {
   "cell_type": "code",
   "execution_count": null,
   "metadata": {},
   "outputs": [],
   "source": [
    "2. Add K-fold cross validation example\n",
    "3. Plot OOB error across bags\n",
    "4. Plot feature importances\n",
    "5. Confusion matrix, feature selection\n",
    "6. More classifiers\n",
    "7. Imputation vs. missing data\n",
    "8. Pruning\n",
    "9. Spliting criterion\n",
    "10. Feature selection\n",
    "11. Advanced excercise / Out-of baggings error"
   ]
  }
 ],
 "metadata": {
  "kernelspec": {
   "display_name": "Python 3",
   "language": "python",
   "name": "python3"
  },
  "language_info": {
   "codemirror_mode": {
    "name": "ipython",
    "version": 3
   },
   "file_extension": ".py",
   "mimetype": "text/x-python",
   "name": "python",
   "nbconvert_exporter": "python",
   "pygments_lexer": "ipython3",
   "version": "3.7.3"
  }
 },
 "nbformat": 4,
 "nbformat_minor": 2
}
