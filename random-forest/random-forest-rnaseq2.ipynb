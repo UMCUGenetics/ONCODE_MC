{
 "cells": [
  {
   "cell_type": "markdown",
   "metadata": {},
   "source": [
    "SVM vs. Random forest comparision\n",
    "Pre-processing\n",
    "Split into labels classes/features\n",
    "* How many features \n",
    "* What are the classes/labels?\n",
    "* Type of data (Categorical, numerical)\n",
    "* Is there any missing data?\n",
    "\n",
    "Imputation vs. missing data\n",
    "\n",
    "Scaling/Normalisation\n",
    "* RPKM, TMM\n",
    "\n",
    "Training/test split | k-folds | leave-one-out\n",
    "\n",
    "Parameter tuning, pruning\n",
    "What is a good feature? Splitting criterion selection \n",
    "\n",
    "RandomForest(Train_X, Train_y)\n",
    "Predict(X_test)\n",
    "ROC-curve (accuracy vs. sensitivity)\n",
    "Feature-importance \n",
    "\n",
    "Pick top-features, compare to original paper\n",
    "\n",
    "Pitfalls - drawbacks of random forest\n",
    "\n",
    "Advanced excercise\n",
    "Out-of baggings error\n",
    "* Select number of trees which minimises OOB error and re-run\n",
    "* \n"
   ]
  },
  {
   "cell_type": "markdown",
   "metadata": {},
   "source": [
    "# RandomForests for RNASeq expression classification"
   ]
  },
  {
   "cell_type": "markdown",
   "metadata": {},
   "source": [
    "## Introduction (Liting)\n",
    "\n",
    "- Supervised classification\n",
    "- Random forests (concept)"
   ]
  },
  {
   "cell_type": "markdown",
   "metadata": {},
   "source": [
    "## Getting started (Liting)\n",
    "\n",
    "Whate are we doing here (scikit learn /pandas)"
   ]
  },
  {
   "cell_type": "code",
   "execution_count": null,
   "metadata": {},
   "outputs": [],
   "source": [
    "import pandas as pd\n",
    "from sklearn.model_selection import train_test_split\n",
    "from sklearn.ensemble import RandomForestClassifier\n",
    "from sklearn.metrics import confusion_matrix\n",
    "from sklearn.metrics import roc_auc_score\n",
    "from sklearn.metrics import roc_curve, auc\n",
    "import matplotlib.pyplot as plt"
   ]
  },
  {
   "cell_type": "markdown",
   "metadata": {},
   "source": [
    "Load the cervical datatset (look at paper) - introduce datasets (Tilman)"
   ]
  },
  {
   "cell_type": "code",
   "execution_count": 1,
   "metadata": {},
   "outputs": [
    {
     "name": "stdout",
     "output_type": "stream",
     "text": [
      "An error occured while reading the data\n"
     ]
    }
   ],
   "source": [
    "try:\n",
    "    exprm = pd.read_csv(\"./datasets/exprm.txt\", sep=\"\\t\")\n",
    "except Exception:\n",
    "    print(\"An error occured while reading the data\")"
   ]
  },
  {
   "cell_type": "markdown",
   "metadata": {},
   "source": [
    "We transpose our dataset to arrange the features in columns and instances in rows (Tilman)"
   ]
  },
  {
   "cell_type": "code",
   "execution_count": null,
   "metadata": {},
   "outputs": [],
   "source": [
    "exprm_t = exprm.transpose()"
   ]
  },
  {
   "cell_type": "markdown",
   "metadata": {},
   "source": [
    "Let's add a column to describe the sample classes. We have 29 controls and 29 cases (in order). By using a simple binary encoding, 0 for control and 1 for cases, we assign each sample to its corresponding class."
   ]
  },
  {
   "cell_type": "code",
   "execution_count": null,
   "metadata": {},
   "outputs": [],
   "source": [
    "n_classes=29\n",
    "exprm_t['class'] = [0]*n_classes + [1]*n_classes #Add meta data file (Tilman)"
   ]
  },
  {
   "cell_type": "markdown",
   "metadata": {},
   "source": [
    "We need to split our dataset into a train and test-set. In a situation where no dedicated train/test \n",
    "sets are available, we usually reserve 2/3 of the initial dataset for training and 1/3 for testing"
   ]
  },
  {
   "cell_type": "markdown",
   "metadata": {},
   "source": [
    "# Feature scaling (RNASeq ) (Tilman) \n",
    "- log transformations, z-scores etc."
   ]
  },
  {
   "cell_type": "markdown",
   "metadata": {},
   "source": [
    "First, let's split our dataset into features and classes."
   ]
  },
  {
   "cell_type": "code",
   "execution_count": null,
   "metadata": {},
   "outputs": [],
   "source": [
    "features = exprm_t.iloc[:,:-1]# Exclude class column (Tilman)\n",
    "classes =exprm_t.iloc[:,-1] # Select last column only"
   ]
  },
  {
   "cell_type": "markdown",
   "metadata": {},
   "source": [
    "# Train / test sets (Liting)\n",
    "\n",
    "We need to define the size of our test set to split the dataset accordingly. The Random state ensures that our results are reproducible.\n"
   ]
  },
  {
   "cell_type": "code",
   "execution_count": null,
   "metadata": {},
   "outputs": [],
   "source": [
    "test_size = 0.33\n",
    "random_state = 123"
   ]
  },
  {
   "cell_type": "markdown",
   "metadata": {},
   "source": [
    "Split the dataset into train and test-set."
   ]
  },
  {
   "cell_type": "code",
   "execution_count": null,
   "metadata": {},
   "outputs": [],
   "source": [
    "X_train, X_test, y_train, y_test = train_test_split(features, classes, test_size=test_size, random_state=random_state)\n"
   ]
  },
  {
   "cell_type": "markdown",
   "metadata": {},
   "source": [
    "# Random Forest (training)\n",
    "\n",
    "Create a new RandomForest instance with n trees."
   ]
  },
  {
   "cell_type": "code",
   "execution_count": null,
   "metadata": {},
   "outputs": [],
   "source": [
    "max_depth=2\n",
    "random_state=123\n",
    "n_trees=5000\n",
    "rf = RandomForestClassifier(max_depth=2, \n",
    "                            random_state=random_state,\n",
    "                            bootstrap=True,\n",
    "                            max_features = 'sqrt',\n",
    "                            n_estimators=n_trees)\n",
    "\n",
    "# Criterion splitting/scoring\n",
    "# Print one tree and explain decision path\n",
    "# Plot one tree"
   ]
  },
  {
   "cell_type": "markdown",
   "metadata": {},
   "source": [
    "# Decision tree (plotting) (Tilman)"
   ]
  },
  {
   "cell_type": "markdown",
   "metadata": {},
   "source": [
    "# Random Forest (fitting) (Liting)\n",
    "\n",
    "We train our classifier on the testset that we previously created. In this steps, the actual \"learning\" takes place."
   ]
  },
  {
   "cell_type": "code",
   "execution_count": null,
   "metadata": {},
   "outputs": [],
   "source": [
    "rf.fit(X_train, y_train) #We should use OOB score here and plot it shomewhere."
   ]
  },
  {
   "cell_type": "markdown",
   "metadata": {},
   "source": [
    "# Random Forest (prediciting)  (Tilman)\n",
    "\n",
    "Let's predict the classes of our test-set"
   ]
  },
  {
   "cell_type": "code",
   "execution_count": null,
   "metadata": {},
   "outputs": [],
   "source": [
    " Tilman\n",
    "\n",
    "score = rf.predict(X_test) #Score predictions\n",
    "probs = rf.predict_proba(X_test)[:, 1] #Score as class probs"
   ]
  },
  {
   "cell_type": "code",
   "execution_count": null,
   "metadata": {},
   "outputs": [],
   "source": [
    "print(sorted(zip(map(lambda x: round(x, 4), score), X_train.index),reverse=True))\n"
   ]
  },
  {
   "cell_type": "markdown",
   "metadata": {},
   "source": [
    "# Feature importances (Liting)"
   ]
  },
  {
   "cell_type": "code",
   "execution_count": null,
   "metadata": {},
   "outputs": [],
   "source": [
    "print(sorted(zip(map(lambda x: round(x, 4), rf.feature_importances_), X_train.columns),reverse=True))"
   ]
  },
  {
   "cell_type": "markdown",
   "metadata": {},
   "source": [
    "# Receiver operator curve (Tilman)"
   ]
  },
  {
   "cell_type": "markdown",
   "metadata": {},
   "source": [
    "Calculate some performance stats."
   ]
  },
  {
   "cell_type": "markdown",
   "metadata": {},
   "source": []
  },
  {
   "cell_type": "code",
   "execution_count": null,
   "metadata": {},
   "outputs": [],
   "source": [
    "fpr, tpr, thresholds = roc_curve(y_test, probs)\n",
    "roc_auc = roc_auc_score(y_test, probs)\n",
    "# Only works for binary more "
   ]
  },
  {
   "cell_type": "code",
   "execution_count": null,
   "metadata": {},
   "outputs": [],
   "source": [
    "plt.plot(fpr, tpr, label='ROC curve (area = %0.3f)' % roc_auc) # https://stackoverflow.com/questions/34564830/roc-curve-with-sklearn-python\n",
    "plt.plot([0, 1], [0, 1], 'k--')  # random predictions curve\n",
    "plt.xlim([0.0, 1.0])\n",
    "plt.ylim([0.0, 1.0])\n",
    "plt.xlabel('False Positive Rate or (1 - Specifity)')\n",
    "plt.ylabel('True Positive Rate or (Sensitivity)')\n",
    "plt.title('Receiver Operating Characteristic')\n",
    "plt.legend(loc=\"lower right\")"
   ]
  },
  {
   "cell_type": "markdown",
   "metadata": {},
   "source": [
    "# Confusion matrix (Liting)"
   ]
  },
  {
   "cell_type": "markdown",
   "metadata": {},
   "source": [
    "# Extra practice: \n",
    "- Linear classifier, logistic regression\n",
    "- Compare results across classifiers\n",
    "    "
   ]
  },
  {
   "cell_type": "markdown",
   "metadata": {},
   "source": [
    "# TO DO"
   ]
  },
  {
   "cell_type": "code",
   "execution_count": null,
   "metadata": {},
   "outputs": [],
   "source": [
    "1. Add Feature scaling (TMM normalization or z-scores) before training\n",
    "2. Add K-fold cross validation example\n",
    "3. Plot OOB error across bags\n",
    "4. Plot feature importances\n",
    "5. Confusion matrix, feature selection\n",
    "6. More classifiers\n"
   ]
  }
 ],
 "metadata": {
  "kernelspec": {
   "display_name": "Python 3",
   "language": "python",
   "name": "python3"
  },
  "language_info": {
   "codemirror_mode": {
    "name": "ipython",
    "version": 3
   },
   "file_extension": ".py",
   "mimetype": "text/x-python",
   "name": "python",
   "nbconvert_exporter": "python",
   "pygments_lexer": "ipython3",
   "version": "3.7.3"
  }
 },
 "nbformat": 4,
 "nbformat_minor": 2
}
