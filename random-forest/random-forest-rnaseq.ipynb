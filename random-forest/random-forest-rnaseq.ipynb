{
 "cells": [
  {
   "cell_type": "markdown",
   "metadata": {},
   "source": [
    "SVM vs. Random forest comparision\n",
    "Pre-processing\n",
    "Split into labels classes/features\n",
    "* How many features \n",
    "* What are the classes/labels?\n",
    "* Type of data (Categorical, numerical)\n",
    "* Is there any missing data?\n",
    "\n",
    "Imputation vs. missing data\n",
    "\n",
    "Scaling/Normalisation\n",
    "* RPKM, TMM\n",
    "\n",
    "Training/test split | k-folds | leave-one-out\n",
    "\n",
    "Parameter tuning, pruning\n",
    "What is a good feature? Splitting criterion selection \n",
    "\n",
    "RandomForest(Train_X, Train_y)\n",
    "Predict(X_test)\n",
    "ROC-curve (accuracy vs. sensitivity)\n",
    "Feature-importance \n",
    "\n",
    "Pick top-features, compare to original paper\n",
    "\n",
    "Pitfalls - drawbacks of random forest\n",
    "\n",
    "Advanced excercise\n",
    "Out-of baggings error\n",
    "* Select number of trees which minimises OOB error and re-run\n",
    "* \n"
   ]
  },
  {
   "cell_type": "code",
   "execution_count": null,
   "metadata": {},
   "outputs": [],
   "source": []
  }
 ],
 "metadata": {
  "kernelspec": {
   "display_name": "Python 3",
   "language": "python",
   "name": "python3"
  },
  "language_info": {
   "codemirror_mode": {
    "name": "ipython",
    "version": 3
   },
   "file_extension": ".py",
   "mimetype": "text/x-python",
   "name": "python",
   "nbconvert_exporter": "python",
   "pygments_lexer": "ipython3",
   "version": "3.7.3"
  }
 },
 "nbformat": 4,
 "nbformat_minor": 2
}
