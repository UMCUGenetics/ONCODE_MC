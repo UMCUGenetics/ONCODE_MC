{
 "cells": [
  {
   "cell_type": "markdown",
   "metadata": {},
   "source": [
    "SVM vs. Random forest comparision\n",
    "Pre-processing\n",
    "Split into labels classes/features\n",
    "* How many features \n",
    "* What are the classes/labels?\n",
    "* Type of data (Categorical, numerical)\n",
    "* Is there any missing data?\n",
    "\n",
    "Imputation vs. missing data\n",
    "\n",
    "Scaling/Normalisation\n",
    "* RPKM, TMM\n",
    "\n",
    "Training/test split | k-folds | leave-one-out\n",
    "\n",
    "Parameter tuning, pruning\n",
    "What is a good feature? Splitting criterion selection \n",
    "\n",
    "RandomForest(Train_X, Train_y)\n",
    "Predict(X_test)\n",
    "ROC-curve (accuracy vs. sensitivity)\n",
    "Feature-importance \n",
    "\n",
    "Pick top-features, compare to original paper\n",
    "\n",
    "Pitfalls - drawbacks of random forest\n",
    "\n",
    "Advanced excercise\n",
    "Out-of baggings error\n",
    "* Select number of trees which minimises OOB error and re-run\n",
    "* \n"
   ]
  },
  {
   "cell_type": "markdown",
   "metadata": {},
   "source": [
    "# RandomForest's for RNASeq expression classification"
   ]
  },
  {
   "cell_type": "markdown",
   "metadata": {},
   "source": [
    "## Introduction"
   ]
  },
  {
   "cell_type": "markdown",
   "metadata": {},
   "source": [
    "## Getting started"
   ]
  },
  {
   "cell_type": "code",
   "execution_count": 2,
   "metadata": {},
   "outputs": [],
   "source": [
    "import pandas as pd\n",
    "from sklearn.model_selection import train_test_split\n",
    "from sklearn.ensemble import RandomForestClassifier\n",
    "from sklearn.metrics import confusion_matrix\n",
    "from sklearn.metrics import roc_auc_score\n",
    "from sklearn.metrics import roc_curve, auc\n",
    "import matplotlib.pyplot as plt"
   ]
  },
  {
   "cell_type": "markdown",
   "metadata": {},
   "source": [
    "Load the cervical datatset"
   ]
  },
  {
   "cell_type": "code",
   "execution_count": 3,
   "metadata": {},
   "outputs": [],
   "source": [
    "try:\n",
    "    exprm = pd.read_csv(\"./datasets/exprm.txt\", sep=\"\\t\")\n",
    "except Exception:\n",
    "    print(\"An error occured while reading the data\")"
   ]
  },
  {
   "cell_type": "markdown",
   "metadata": {},
   "source": [
    "We transpose our dataset to arrange the features in columns and instances in rows."
   ]
  },
  {
   "cell_type": "code",
   "execution_count": 4,
   "metadata": {},
   "outputs": [],
   "source": [
    "exprm_t = exprm.transpose()"
   ]
  },
  {
   "cell_type": "markdown",
   "metadata": {},
   "source": [
    "Let's add a column to describe the sample classes. We have 29 controls and 29 cases (in order). By using a simple binary encoding, 0 for control and 1 for cases, we assign each sample to its corresponding class."
   ]
  },
  {
   "cell_type": "code",
   "execution_count": 5,
   "metadata": {},
   "outputs": [],
   "source": [
    "n_classes=29\n",
    "exprm_t['class'] = [0]*n_classes + [1]*n_classes"
   ]
  },
  {
   "cell_type": "markdown",
   "metadata": {},
   "source": [
    "We need to split our dataset into a train and test-set. In a situation where no dedicated train/test \n",
    "sets are available, we usually reserve 2/3 of the initial dataset for training and 1/3 for testing"
   ]
  },
  {
   "cell_type": "markdown",
   "metadata": {},
   "source": [
    "First, let's split our dataset into features and classes."
   ]
  },
  {
   "cell_type": "code",
   "execution_count": 6,
   "metadata": {},
   "outputs": [],
   "source": [
    "features = exprm_t.iloc[:,:-1]# Exclude class column\n",
    "classes =exprm_t.iloc[:,-1] # Select last column only"
   ]
  },
  {
   "cell_type": "markdown",
   "metadata": {},
   "source": [
    "We need to define the size of our test set to split the dataset accordingly. The Random state ensures that our results are reproducible.\n"
   ]
  },
  {
   "cell_type": "code",
   "execution_count": 7,
   "metadata": {},
   "outputs": [],
   "source": [
    "test_size = 0.33\n",
    "random_state = 123"
   ]
  },
  {
   "cell_type": "markdown",
   "metadata": {},
   "source": [
    "Split the dataset into train and test-set."
   ]
  },
  {
   "cell_type": "code",
   "execution_count": 8,
   "metadata": {},
   "outputs": [],
   "source": [
    "X_train, X_test, y_train, y_test = train_test_split(features, classes, test_size=test_size, random_state=random_state)\n"
   ]
  },
  {
   "cell_type": "markdown",
   "metadata": {},
   "source": [
    "Create a new RandomForest instance with n trees."
   ]
  },
  {
   "cell_type": "code",
   "execution_count": 9,
   "metadata": {},
   "outputs": [],
   "source": [
    "max_depth=2\n",
    "random_state=123\n",
    "n_trees=5000\n",
    "rf = RandomForestClassifier(max_depth=2, \n",
    "                            random_state=random_state,\n",
    "                            bootstrap=True,\n",
    "                            max_features = 'sqrt',\n",
    "                            n_estimators=n_trees)\n"
   ]
  },
  {
   "cell_type": "markdown",
   "metadata": {},
   "source": [
    "We train our classifier on the testset that we previously created. In this steps, the actual \"learning\" takes place."
   ]
  },
  {
   "cell_type": "code",
   "execution_count": 10,
   "metadata": {},
   "outputs": [
    {
     "data": {
      "text/plain": [
       "RandomForestClassifier(bootstrap=True, class_weight=None, criterion='gini',\n",
       "            max_depth=2, max_features='sqrt', max_leaf_nodes=None,\n",
       "            min_impurity_decrease=0.0, min_impurity_split=None,\n",
       "            min_samples_leaf=1, min_samples_split=2,\n",
       "            min_weight_fraction_leaf=0.0, n_estimators=5000, n_jobs=None,\n",
       "            oob_score=False, random_state=123, verbose=0, warm_start=False)"
      ]
     },
     "execution_count": 10,
     "metadata": {},
     "output_type": "execute_result"
    }
   ],
   "source": [
    "rf.fit(X_train, y_train) #We should use OOB score here and plot it shomewhere."
   ]
  },
  {
   "cell_type": "markdown",
   "metadata": {},
   "source": [
    "Let's predict the classes of our test-set"
   ]
  },
  {
   "cell_type": "code",
   "execution_count": 12,
   "metadata": {},
   "outputs": [],
   "source": [
    "score = rf.predict(X_test) #Score predictions\n",
    "probs = rf.predict_proba(X_test)[:, 1] #Score as class probs"
   ]
  },
  {
   "cell_type": "code",
   "execution_count": 13,
   "metadata": {},
   "outputs": [
    {
     "name": "stdout",
     "output_type": "stream",
     "text": [
      "[(1, 'T7'), (1, 'T20'), (1, 'T18'), (1, 'N8'), (1, 'N7'), (1, 'N5'), (1, 'N4'), (1, 'N25'), (1, 'N22'), (1, 'N21'), (1, 'N16'), (0, 'T28'), (0, 'T26'), (0, 'T25'), (0, 'T16'), (0, 'T12'), (0, 'T11'), (0, 'T1'), (0, 'N2'), (0, 'N17')]\n"
     ]
    }
   ],
   "source": [
    "print(sorted(zip(map(lambda x: round(x, 4), score), X_train.index),reverse=True))\n"
   ]
  },
  {
   "cell_type": "markdown",
   "metadata": {},
   "source": [
    "# Feature importances"
   ]
  },
  {
   "cell_type": "code",
   "execution_count": 14,
   "metadata": {},
   "outputs": [
    {
     "name": "stdout",
     "output_type": "stream",
     "text": [
      "[(0.0265, 'miR-10b*'), (0.0245, 'miR-133b'), (0.0215, 'miR-133a'), (0.0209, 'miR-1'), (0.0194, 'miR-497'), (0.0172, 'miR-143'), (0.016, 'miR-99b'), (0.0158, 'miR-379'), (0.0155, 'miR-125b'), (0.0146, 'miR-125a-5p'), (0.0138, 'miR-542-5p'), (0.0137, 'miR-497*'), (0.0133, 'miR-424*'), (0.0127, 'miR-204'), (0.0127, 'miR-199a-5p'), (0.0116, 'miR-125b-1*'), (0.0105, 'miR-7'), (0.0104, 'miR-328'), (0.0103, 'miR-23b'), (0.0102, 'miR-424'), (0.0088, 'miR-377'), (0.0087, 'miR-10a*'), (0.0083, 'miR-205'), (0.0082, 'miR-193a-5p'), (0.0082, 'miR-140-3p'), (0.008, 'miR-100'), (0.0078, 'miR-195*'), (0.0077, 'miR-374b'), (0.0072, 'miR-21*'), (0.0067, 'miR-200b'), (0.0067, 'miR-139-3p'), (0.0063, 'miR-378'), (0.0063, 'miR-145*'), (0.0062, 'miR-31*'), (0.0061, 'Candidate-48'), (0.0061, 'Candidate-24'), (0.006, 'miR-199b-3p'), (0.0057, 'miR-155'), (0.0056, 'miR-574-3p'), (0.0056, 'miR-147b'), (0.0056, 'let-7e*'), (0.0055, 'miR-99a'), (0.0055, 'miR-514'), (0.0055, 'miR-513c'), (0.0054, 'miR-140-5p'), (0.0053, 'miR-450a'), (0.0053, 'miR-326'), (0.0052, 'miR-200c'), (0.0051, 'Candidate-5'), (0.005, 'miR-744'), (0.0047, 'miR-214'), (0.0047, 'Candidate-57-3p'), (0.0046, 'miR-873'), (0.0046, 'miR-487b'), (0.0046, 'miR-142-5p'), (0.0045, 'miR-299-3p'), (0.0045, 'miR-200a*'), (0.0044, 'miR-139-5p'), (0.0043, 'let-7b*'), (0.0043, 'Candidate-12-3p'), (0.0042, 'miR-450b-5p'), (0.0042, 'miR-125b-2*'), (0.0042, 'miR-101*'), (0.0042, 'let-7d*'), (0.0041, 'miR-31'), (0.0041, 'miR-26b'), (0.0041, 'miR-218'), (0.0041, 'miR-202*'), (0.0041, 'miR-196a'), (0.0041, 'miR-142-3p'), (0.004, 'miR-146a'), (0.0039, 'miR-383'), (0.0039, 'miR-200c*'), (0.0039, 'miR-196b'), (0.0037, 'miR-223'), (0.0037, 'miR-126'), (0.0036, 'miR-152'), (0.0035, 'miR-425'), (0.0035, 'miR-369-3p'), (0.0034, 'miR-203'), (0.0034, 'miR-141'), (0.0034, 'miR-10b'), (0.0033, 'miR-27b'), (0.0033, 'miR-218-1*'), (0.0033, 'miR-186'), (0.0033, 'miR-183*'), (0.0032, 'miR-944'), (0.0032, 'miR-29b-2*'), (0.0031, 'miR-195'), (0.0031, 'miR-150'), (0.0031, 'Candidate-44'), (0.003, 'miR-576-3p'), (0.003, 'miR-151-5p'), (0.0029, 'miR-502-3p'), (0.0029, 'miR-126*'), (0.0029, 'miR-10a'), (0.0028, 'miR-499-5p'), (0.0028, 'miR-410'), (0.0028, 'miR-32*'), (0.0028, 'miR-141*'), (0.0028, 'Candidate-2'), (0.0026, 'miR-886-5p'), (0.0026, 'miR-488'), (0.0025, 'miR-874'), (0.0025, 'miR-21'), (0.0025, 'miR-17*'), (0.0025, 'miR-135b'), (0.0025, 'let-7e'), (0.0024, 'miR-95'), (0.0024, 'miR-629*'), (0.0024, 'miR-25*'), (0.0023, 'miR-96'), (0.0023, 'let-7c'), (0.0023, 'let-7a'), (0.0023, 'Candidate-28'), (0.0023, 'Candidate-21-3p'), (0.0023, 'Candidate-17'), (0.0022, 'miR-99a*'), (0.0022, 'miR-26b*'), (0.0021, 'miR-429'), (0.0021, 'miR-335'), (0.0021, 'miR-30c-1*'), (0.0021, 'miR-299-5p'), (0.0021, 'miR-28-3p'), (0.0021, 'Candidate-7-3p'), (0.002, 'miR-190'), (0.002, 'miR-183'), (0.002, 'miR-144'), (0.002, 'Candidate-8'), (0.002, 'Candidate-37-5p'), (0.002, 'Candidate-29-5p'), (0.002, 'Candidate-14'), (0.0019, 'miR-532-5p'), (0.0019, 'miR-365'), (0.0019, 'miR-18a'), (0.0019, 'miR-130b'), (0.0019, 'miR-125a-3p'), (0.0018, 'miR-486-5p'), (0.0018, 'miR-331-3p'), (0.0018, 'miR-26a-2*'), (0.0018, 'miR-200a'), (0.0018, 'let-7i'), (0.0018, 'Candidate-29-3p'), (0.0017, 'miR-660'), (0.0017, 'miR-425*'), (0.0017, 'miR-17'), (0.0016, 'miR-769-5p'), (0.0016, 'miR-30b*'), (0.0016, 'miR-27a'), (0.0016, 'miR-22'), (0.0016, 'miR-181a'), (0.0016, 'miR-149'), (0.0015, 'miR-876-5p'), (0.0015, 'miR-708*'), (0.0015, 'miR-501-3p'), (0.0015, 'miR-340'), (0.0015, 'miR-329'), (0.0015, 'miR-199b-5p'), (0.0015, 'miR-185'), (0.0015, 'Candidate-23-5p'), (0.0014, 'miR-940'), (0.0014, 'miR-876-3p'), (0.0014, 'miR-376a'), (0.0014, 'miR-361-3p'), (0.0014, 'miR-342-3p'), (0.0014, 'miR-337-3p'), (0.0014, 'miR-193b'), (0.0014, 'miR-154*'), (0.0014, 'miR-148b'), (0.0014, 'miR-130a'), (0.0014, 'miR-127-5p'), (0.0014, 'miR-122'), (0.0013, 'miR-885-5p'), (0.0013, 'miR-708'), (0.0013, 'miR-376c'), (0.0013, 'miR-136'), (0.0012, 'miR-877'), (0.0012, 'miR-542-3p'), (0.0012, 'miR-484'), (0.0012, 'miR-483-3p'), (0.0012, 'miR-224'), (0.0012, 'miR-19b-1*'), (0.0012, 'miR-19b'), (0.0012, 'miR-182'), (0.0012, 'miR-15b'), (0.0012, 'miR-127-3p'), (0.0012, 'miR-107'), (0.0012, 'let-7f'), (0.0011, 'miR-92a'), (0.0011, 'miR-768-5p'), (0.0011, 'miR-451'), (0.0011, 'miR-374a*'), (0.0011, 'miR-339-5p'), (0.0011, 'miR-28-5p'), (0.0011, 'miR-27a*'), (0.0011, 'miR-26a'), (0.0011, 'miR-212'), (0.0011, 'miR-193b*'), (0.0011, 'miR-193a-3p'), (0.0011, 'miR-101'), (0.0011, 'Candidate-58-3p'), (0.0011, 'Candidate-54-3-3p'), (0.0011, 'Candidate-52-2'), (0.0011, 'Candidate-15'), (0.001, 'miR-9'), (0.001, 'miR-532-3p'), (0.001, 'miR-513a-5p'), (0.001, 'miR-507'), (0.001, 'miR-376b'), (0.001, 'miR-33b'), (0.001, 'miR-337-5p'), (0.001, 'miR-324-5p'), (0.001, 'miR-30d'), (0.001, 'miR-23a'), (0.001, 'miR-18a*'), (0.001, 'miR-181c'), (0.001, 'miR-181a-2*'), (0.001, 'miR-181a*'), (0.001, 'miR-148a*'), (0.001, 'miR-145'), (0.001, 'Candidate-7-5p'), (0.001, 'Candidate-18-3p'), (0.0009, 'miR-598'), (0.0009, 'miR-543'), (0.0009, 'miR-493*'), (0.0009, 'miR-432'), (0.0009, 'miR-423-5p'), (0.0009, 'miR-339-3p'), (0.0009, 'miR-221'), (0.0009, 'miR-20a*'), (0.0009, 'miR-15a'), (0.0009, 'miR-143*'), (0.0009, 'miR-129-5p'), (0.0009, 'miR-129-3p'), (0.0009, 'let-7b'), (0.0009, 'Candidate-40-5p'), (0.0008, 'miR-92a-1*'), (0.0008, 'miR-551b'), (0.0008, 'miR-455-5p'), (0.0008, 'miR-455-3p'), (0.0008, 'miR-375'), (0.0008, 'miR-362-5p'), (0.0008, 'miR-30e*'), (0.0008, 'miR-25'), (0.0008, 'miR-210'), (0.0008, 'miR-153'), (0.0008, 'miR-151-3p'), (0.0008, 'miR-100*'), (0.0008, 'Candidate-51-5p'), (0.0008, 'Candidate-12-5p'), (0.0007, 'miR-766'), (0.0007, 'miR-7-1*'), (0.0007, 'miR-618'), (0.0007, 'miR-561-5p'), (0.0007, 'miR-494'), (0.0007, 'miR-423-3p'), (0.0007, 'miR-411*'), (0.0007, 'miR-374a'), (0.0007, 'miR-34a'), (0.0007, 'miR-30a*'), (0.0007, 'miR-222'), (0.0007, 'miR-206'), (0.0007, 'miR-194'), (0.0007, 'miR-15a*'), (0.0007, 'miR-155*'), (0.0007, 'miR-128'), (0.0007, 'miR-106b*'), (0.0007, 'Candidate-53'), (0.0007, 'Candidate-40-3p'), (0.0007, 'Candidate-21-5p'), (0.0007, 'Candidate-11'), (0.0006, 'miR-765'), (0.0006, 'miR-675'), (0.0006, 'miR-655'), (0.0006, 'miR-515-5p'), (0.0006, 'miR-508-3p'), (0.0006, 'miR-454'), (0.0006, 'miR-379*'), (0.0006, 'miR-33a'), (0.0006, 'miR-30e'), (0.0006, 'miR-23b*'), (0.0006, 'miR-16-2*'), (0.0006, 'miR-146b-5p'), (0.0006, 'miR-1236'), (0.0006, 'miR-1224-5p'), (0.0006, 'let-7g'), (0.0006, 'Candidate-57-5p'), (0.0006, 'Candidate-52-1'), (0.0005, 'miR-99b*'), (0.0005, 'miR-98'), (0.0005, 'miR-93*'), (0.0005, 'miR-93'), (0.0005, 'miR-744*'), (0.0005, 'miR-652'), (0.0005, 'miR-629'), (0.0005, 'miR-551a'), (0.0005, 'miR-550*'), (0.0005, 'miR-495'), (0.0005, 'miR-490-5p'), (0.0005, 'miR-381'), (0.0005, 'miR-34b'), (0.0005, 'miR-345'), (0.0005, 'miR-324-3p'), (0.0005, 'miR-323-3p'), (0.0005, 'miR-32'), (0.0005, 'miR-30c-2*'), (0.0005, 'miR-27b*'), (0.0005, 'miR-191'), (0.0005, 'miR-188-3p'), (0.0005, 'miR-181b'), (0.0005, 'miR-106b'), (0.0005, 'let-7d'), (0.0005, 'Candidate-50-2-5p'), (0.0005, 'Candidate-26-5p'), (0.0005, 'Candidate-1-5p'), (0.0004, 'miR-769-3p'), (0.0004, 'miR-641'), (0.0004, 'miR-625*'), (0.0004, 'miR-592'), (0.0004, 'miR-570'), (0.0004, 'miR-452'), (0.0004, 'miR-411'), (0.0004, 'miR-409-5p'), (0.0004, 'miR-369-5p'), (0.0004, 'miR-363'), (0.0004, 'miR-361-5p'), (0.0004, 'miR-33a*'), (0.0004, 'miR-330-3p'), (0.0004, 'miR-320a'), (0.0004, 'miR-30b'), (0.0004, 'miR-222*'), (0.0004, 'miR-221*'), (0.0004, 'miR-22*'), (0.0004, 'miR-219-1-3p'), (0.0004, 'miR-214*'), (0.0004, 'miR-211'), (0.0004, 'miR-20b*'), (0.0004, 'miR-20b'), (0.0004, 'miR-208b'), (0.0004, 'miR-192'), (0.0004, 'miR-186*'), (0.0004, 'miR-16'), (0.0004, 'miR-148a'), (0.0004, 'miR-137'), (0.0004, 'miR-135a'), (0.0004, 'miR-134'), (0.0004, 'miR-130b*'), (0.0004, 'miR-1228*'), (0.0004, 'miR-1227'), (0.0004, 'miR-106a*'), (0.0004, 'let-7i*'), (0.0004, 'let-7a*'), (0.0004, 'Candidate-9-5p'), (0.0004, 'Candidate-61'), (0.0004, 'Candidate-42'), (0.0004, 'Candidate-13'), (0.0003, 'miR-96*'), (0.0003, 'miR-937'), (0.0003, 'miR-923'), (0.0003, 'miR-886-3p'), (0.0003, 'miR-877*'), (0.0003, 'miR-801'), (0.0003, 'miR-628-5p'), (0.0003, 'miR-628-3p'), (0.0003, 'miR-616*'), (0.0003, 'miR-589'), (0.0003, 'miR-556-5p'), (0.0003, 'miR-548d-5p'), (0.0003, 'miR-548b-3p'), (0.0003, 'miR-518e'), (0.0003, 'miR-510'), (0.0003, 'miR-500*'), (0.0003, 'miR-493'), (0.0003, 'miR-488*'), (0.0003, 'miR-382'), (0.0003, 'miR-362-3p'), (0.0003, 'miR-34c-3p'), (0.0003, 'miR-301b'), (0.0003, 'miR-301a'), (0.0003, 'miR-29b'), (0.0003, 'miR-29a*'), (0.0003, 'miR-24-2*'), (0.0003, 'miR-24'), (0.0003, 'miR-23a*'), (0.0003, 'miR-200b*'), (0.0003, 'miR-197'), (0.0003, 'miR-190b'), (0.0003, 'miR-181c*'), (0.0003, 'miR-154'), (0.0003, 'miR-150*'), (0.0003, 'miR-146b-3p'), (0.0003, 'miR-144*'), (0.0003, 'miR-138'), (0.0003, 'miR-136*'), (0.0003, 'miR-1228'), (0.0003, 'miR-103'), (0.0003, 'let-7g*'), (0.0003, 'let-7f-2*'), (0.0003, 'let-7c*'), (0.0003, 'Candidate-45'), (0.0003, 'Candidate-43'), (0.0003, 'Candidate-4'), (0.0003, 'Candidate-37-3p'), (0.0003, 'Candidate-35'), (0.0002, 'miR-941'), (0.0002, 'miR-92b*'), (0.0002, 'miR-9*'), (0.0002, 'miR-768-3p'), (0.0002, 'miR-7-2*'), (0.0002, 'miR-665'), (0.0002, 'miR-654-3p'), (0.0002, 'miR-651'), (0.0002, 'miR-643'), (0.0002, 'miR-636'), (0.0002, 'miR-627'), (0.0002, 'miR-615-3p'), (0.0002, 'miR-590-5p'), (0.0002, 'miR-590-3p'), (0.0002, 'miR-589*'), (0.0002, 'miR-582-5p'), (0.0002, 'miR-582-3p'), (0.0002, 'miR-579'), (0.0002, 'miR-576-5p'), (0.0002, 'miR-548d-3p'), (0.0002, 'miR-548b-5p'), (0.0002, 'miR-545*'), (0.0002, 'miR-519d'), (0.0002, 'miR-518f'), (0.0002, 'miR-518a-3p'), (0.0002, 'miR-511'), (0.0002, 'miR-509-3p'), (0.0002, 'miR-508-5p'), (0.0002, 'miR-506'), (0.0002, 'miR-505'), (0.0002, 'miR-504'), (0.0002, 'miR-500'), (0.0002, 'miR-491-5p'), (0.0002, 'miR-491-3p'), (0.0002, 'miR-486-3p'), (0.0002, 'miR-485-5p'), (0.0002, 'miR-483-5p'), (0.0002, 'miR-454*'), (0.0002, 'miR-449b'), (0.0002, 'miR-377*'), (0.0002, 'miR-34c-5p'), (0.0002, 'miR-34a*'), (0.0002, 'miR-342-5p'), (0.0002, 'miR-335*'), (0.0002, 'miR-30c'), (0.0002, 'miR-30a'), (0.0002, 'miR-302d'), (0.0002, 'miR-29c*'), (0.0002, 'miR-29c'), (0.0002, 'miR-29a'), (0.0002, 'miR-26a-1*'), (0.0002, 'miR-223*'), (0.0002, 'miR-202'), (0.0002, 'miR-188-5p'), (0.0002, 'miR-148b*'), (0.0002, 'miR-135b*'), (0.0002, 'miR-132*'), (0.0002, 'miR-132'), (0.0002, 'miR-130a*'), (0.0002, 'miR-124*'), (0.0002, 'miR-1229'), (0.0002, 'let-7f-1*'), (0.0002, 'Candidate-64'), (0.0002, 'Candidate-63'), (0.0002, 'Candidate-62'), (0.0002, 'Candidate-60'), (0.0002, 'Candidate-54'), (0.0002, 'Candidate-49'), (0.0002, 'Candidate-41'), (0.0002, 'Candidate-36-5p'), (0.0002, 'Candidate-30'), (0.0002, 'Candidate-3'), (0.0002, 'Candidate-18-5p'), (0.0001, 'miR-942'), (0.0001, 'miR-92b'), (0.0001, 'miR-891b'), (0.0001, 'miR-891a'), (0.0001, 'miR-887'), (0.0001, 'miR-671-5p'), (0.0001, 'miR-671-3p'), (0.0001, 'miR-663'), (0.0001, 'miR-658'), (0.0001, 'miR-654-5p'), (0.0001, 'miR-653'), (0.0001, 'miR-642'), (0.0001, 'miR-610'), (0.0001, 'miR-603'), (0.0001, 'miR-585'), (0.0001, 'miR-584'), (0.0001, 'miR-577'), (0.0001, 'miR-559'), (0.0001, 'miR-550'), (0.0001, 'miR-549-3p'), (0.0001, 'miR-548c-5p'), (0.0001, 'miR-548a-3p'), (0.0001, 'miR-545'), (0.0001, 'miR-541'), (0.0001, 'miR-539'), (0.0001, 'miR-525-5p'), (0.0001, 'miR-524-5p'), (0.0001, 'miR-523'), (0.0001, 'miR-520d-5p'), (0.0001, 'miR-520c-3p'), (0.0001, 'miR-518b'), (0.0001, 'miR-517b'), (0.0001, 'miR-517a'), (0.0001, 'miR-516b'), (0.0001, 'miR-516a-5p'), (0.0001, 'miR-515-3p'), (0.0001, 'miR-513b'), (0.0001, 'miR-509-3-5p'), (0.0001, 'miR-505*'), (0.0001, 'miR-503'), (0.0001, 'miR-502-5p'), (0.0001, 'miR-501-5p'), (0.0001, 'miR-496'), (0.0001, 'miR-487a'), (0.0001, 'miR-485-3p'), (0.0001, 'miR-452*'), (0.0001, 'miR-450b-3p'), (0.0001, 'miR-449a'), (0.0001, 'miR-421'), (0.0001, 'miR-409-3p'), (0.0001, 'miR-378*'), (0.0001, 'miR-376a*'), (0.0001, 'miR-374b*'), (0.0001, 'miR-373'), (0.0001, 'miR-371-5p'), (0.0001, 'miR-370'), (0.0001, 'miR-34b*'), (0.0001, 'miR-346'), (0.0001, 'miR-33b*'), (0.0001, 'miR-338-5p'), (0.0001, 'miR-338-3p'), (0.0001, 'miR-331-5p'), (0.0001, 'miR-30d*'), (0.0001, 'miR-29b-1*'), (0.0001, 'miR-24-1*'), (0.0001, 'miR-219-5p'), (0.0001, 'miR-216a'), (0.0001, 'miR-215'), (0.0001, 'miR-20a'), (0.0001, 'miR-19a*'), (0.0001, 'miR-19a'), (0.0001, 'miR-196a*'), (0.0001, 'miR-18b'), (0.0001, 'miR-184'), (0.0001, 'miR-182*'), (0.0001, 'miR-181d'), (0.0001, 'miR-16-1*'), (0.0001, 'miR-15b*'), (0.0001, 'miR-138-1*'), (0.0001, 'miR-124'), (0.0001, 'miR-1237'), (0.0001, 'miR-1233'), (0.0001, 'miR-1224-3p'), (0.0001, 'miR-106a'), (0.0001, 'miR-105*'), (0.0001, 'Candidate-59-5p'), (0.0001, 'Candidate-59-3p'), (0.0001, 'Candidate-55'), (0.0001, 'Candidate-50-3p'), (0.0001, 'Candidate-50-1-5p'), (0.0001, 'Candidate-46'), (0.0001, 'Candidate-36-3p'), (0.0001, 'Candidate-34-5p'), (0.0001, 'Candidate-34-3p'), (0.0001, 'Candidate-33'), (0.0001, 'Candidate-32-5p'), (0.0001, 'Candidate-31'), (0.0001, 'Candidate-26-3p'), (0.0001, 'Candidate-25-5p'), (0.0001, 'Candidate-23-3p'), (0.0001, 'Candidate-22'), (0.0001, 'Candidate-19'), (0.0001, 'Candidate-16'), (0.0001, 'Candidate-10'), (0.0, 'miR-939'), (0.0, 'miR-938'), (0.0, 'miR-935'), (0.0, 'miR-934'), (0.0, 'miR-933'), (0.0, 'miR-892b'), (0.0, 'miR-890'), (0.0, 'miR-889'), (0.0, 'miR-888'), (0.0, 'miR-885-3p'), (0.0, 'miR-875-5p'), (0.0, 'miR-875-3p'), (0.0, 'miR-770-5p'), (0.0, 'miR-767-5p'), (0.0, 'miR-767-3p'), (0.0, 'miR-760'), (0.0, 'miR-758'), (0.0, 'miR-668'), (0.0, 'miR-664'), (0.0, 'miR-659'), (0.0, 'miR-656'), (0.0, 'miR-650'), (0.0, 'miR-639'), (0.0, 'miR-625'), (0.0, 'miR-624*'), (0.0, 'miR-624'), (0.0, 'miR-622'), (0.0, 'miR-617'), (0.0, 'miR-616'), (0.0, 'miR-615-5p'), (0.0, 'miR-612'), (0.0, 'miR-605'), (0.0, 'miR-600'), (0.0, 'miR-599'), (0.0, 'miR-597'), (0.0, 'miR-581'), (0.0, 'miR-580'), (0.0, 'miR-566'), (0.0, 'miR-556-3p'), (0.0, 'miR-552'), (0.0, 'miR-551b*'), (0.0, 'miR-549-5p'), (0.0, 'miR-548a-5p'), (0.0, 'miR-544'), (0.0, 'miR-527'), (0.0, 'miR-526b*'), (0.0, 'miR-526b'), (0.0, 'miR-525-3p'), (0.0, 'miR-522'), (0.0, 'miR-521'), (0.0, 'miR-520h'), (0.0, 'miR-520g'), (0.0, 'miR-520f'), (0.0, 'miR-520e'), (0.0, 'miR-520d-3p'), (0.0, 'miR-520a-5p'), (0.0, 'miR-520a-3p'), (0.0, 'miR-519e*'), (0.0, 'miR-519c-5p'), (0.0, 'miR-519c-3p'), (0.0, 'miR-519b-3p'), (0.0, 'miR-519a'), (0.0, 'miR-518f*'), (0.0, 'miR-518d-3p'), (0.0, 'miR-518c'), (0.0, 'miR-517c'), (0.0, 'miR-517*'), (0.0, 'miR-516b*'), (0.0, 'miR-513a-3p'), (0.0, 'miR-512-5p'), (0.0, 'miR-512-3p'), (0.0, 'miR-499-3p'), (0.0, 'miR-498'), (0.0, 'miR-492'), (0.0, 'miR-490-3p'), (0.0, 'miR-489'), (0.0, 'miR-453'), (0.0, 'miR-433'), (0.0, 'miR-432*'), (0.0, 'miR-431*'), (0.0, 'miR-431'), (0.0, 'miR-380*'), (0.0, 'miR-380'), (0.0, 'miR-373*'), (0.0, 'miR-372'), (0.0, 'miR-371-3p'), (0.0, 'miR-367'), (0.0, 'miR-363*'), (0.0, 'miR-340*'), (0.0, 'miR-330-5p'), (0.0, 'miR-302c'), (0.0, 'miR-302b*'), (0.0, 'miR-302b'), (0.0, 'miR-302a*'), (0.0, 'miR-296-3p'), (0.0, 'miR-219-2-3p'), (0.0, 'miR-218-2*'), (0.0, 'miR-217'), (0.0, 'miR-216b'), (0.0, 'miR-19b-2*'), (0.0, 'miR-198'), (0.0, 'miR-194*'), (0.0, 'miR-192*'), (0.0, 'miR-191*'), (0.0, 'miR-18b*'), (0.0, 'miR-187*'), (0.0, 'miR-187'), (0.0, 'miR-185*'), (0.0, 'miR-149*'), (0.0, 'miR-146a*'), (0.0, 'miR-135a*'), (0.0, 'miR-129*'), (0.0, 'miR-1277'), (0.0, 'miR-1271'), (0.0, 'miR-1226'), (0.0, 'miR-1225-5p'), (0.0, 'miR-1225-3p'), (0.0, 'miR-122*'), (0.0, 'miR-105'), (0.0, 'Candidate-9-3p'), (0.0, 'Candidate-6'), (0.0, 'Candidate-58-5p'), (0.0, 'Candidate-56'), (0.0, 'Candidate-51-1-3p'), (0.0, 'Candidate-47'), (0.0, 'Candidate-39'), (0.0, 'Candidate-38'), (0.0, 'Candidate-32-3p'), (0.0, 'Candidate-27-5p'), (0.0, 'Candidate-27-3p'), (0.0, 'Candidate-25-3p'), (0.0, 'Candidate-20'), (0.0, 'Candidate-1-3p')]\n"
     ]
    }
   ],
   "source": [
    "print(sorted(zip(map(lambda x: round(x, 4), rf.feature_importances_), X_train.columns),reverse=True))"
   ]
  },
  {
   "cell_type": "markdown",
   "metadata": {},
   "source": [
    "# Receiver operator curve"
   ]
  },
  {
   "cell_type": "markdown",
   "metadata": {},
   "source": [
    "Calculate some performance stats."
   ]
  },
  {
   "cell_type": "markdown",
   "metadata": {},
   "source": []
  },
  {
   "cell_type": "code",
   "execution_count": 16,
   "metadata": {},
   "outputs": [],
   "source": [
    "fpr, tpr, thresholds = roc_curve(y_test, probs)\n",
    "roc_auc = roc_auc_score(y_test, probs)\n",
    "    "
   ]
  },
  {
   "cell_type": "code",
   "execution_count": 17,
   "metadata": {},
   "outputs": [
    {
     "data": {
      "text/plain": [
       "<matplotlib.legend.Legend at 0x1a1eede278>"
      ]
     },
     "execution_count": 17,
     "metadata": {},
     "output_type": "execute_result"
    },
    {
     "data": {
      "image/png": "[encoded data removed]",
      "text/plain": [
       "<Figure size 432x288 with 1 Axes>"
      ]
     },
     "metadata": {
      "needs_background": "light"
     },
     "output_type": "display_data"
    }
   ],
   "source": [
    "plt.plot(fpr, tpr, label='ROC curve (area = %0.3f)' % roc_auc) # https://stackoverflow.com/questions/34564830/roc-curve-with-sklearn-python\n",
    "plt.plot([0, 1], [0, 1], 'k--')  # random predictions curve\n",
    "plt.xlim([0.0, 1.0])\n",
    "plt.ylim([0.0, 1.0])\n",
    "plt.xlabel('False Positive Rate or (1 - Specifity)')\n",
    "plt.ylabel('True Positive Rate or (Sensitivity)')\n",
    "plt.title('Receiver Operating Characteristic')\n",
    "plt.legend(loc=\"lower right\")"
   ]
  },
  {
   "cell_type": "markdown",
   "metadata": {},
   "source": [
    "# TO DO"
   ]
  },
  {
   "cell_type": "code",
   "execution_count": null,
   "metadata": {},
   "outputs": [],
   "source": [
    "1. Add Feature scaling (TMM normalization or z-scores) before training\n",
    "2. Add K-fold cross validation example\n",
    "3. Plot OOB error across bags\n",
    "4. Plot feature importances"
   ]
  }
 ],
 "metadata": {
  "kernelspec": {
   "display_name": "Python 3",
   "language": "python",
   "name": "python3"
  },
  "language_info": {
   "codemirror_mode": {
    "name": "ipython",
    "version": 3
   },
   "file_extension": ".py",
   "mimetype": "text/x-python",
   "name": "python",
   "nbconvert_exporter": "python",
   "pygments_lexer": "ipython3",
   "version": "3.7.3"
  }
 },
 "nbformat": 4,
 "nbformat_minor": 2
}
